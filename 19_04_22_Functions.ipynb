{
  "nbformat": 4,
  "nbformat_minor": 0,
  "metadata": {
    "colab": {
      "name": "19-04-22/Functions.ipynb",
      "provenance": [],
      "collapsed_sections": [],
      "authorship_tag": "ABX9TyOxK45vjMWTwa9Iw7BWQhuR",
      "include_colab_link": true
    },
    "kernelspec": {
      "name": "python3",
      "display_name": "Python 3"
    },
    "language_info": {
      "name": "python"
    }
  },
  "cells": [
    {
      "cell_type": "markdown",
      "metadata": {
        "id": "view-in-github",
        "colab_type": "text"
      },
      "source": [
        "<a href=\"https://colab.research.google.com/github/UdayBattula/Python_Practise/blob/main/19_04_22_Functions.ipynb\" target=\"_parent\"><img src=\"https://colab.research.google.com/assets/colab-badge.svg\" alt=\"Open In Colab\"/></a>"
      ]
    },
    {
      "cell_type": "code",
      "execution_count": null,
      "metadata": {
        "id": "RGevvFEaUquQ"
      },
      "outputs": [],
      "source": [
        ""
      ]
    },
    {
      "cell_type": "markdown",
      "source": [
        "##headings"
      ],
      "metadata": {
        "id": "uYRqUdqKXO-w"
      }
    },
    {
      "cell_type": "code",
      "source": [
        "def kgf():\n",
        " print(\"Violence\")\n",
        " print(\"Violence, ...\")\n",
        " print(\"Violence, ..., I dont like\")\n",
        "kgf()"
      ],
      "metadata": {
        "colab": {
          "base_uri": "https://localhost:8080/"
        },
        "id": "pclw1jYQXRUv",
        "outputId": "432e0c88-fe27-4d4e-baa6-9a6733b19339"
      },
      "execution_count": null,
      "outputs": [
        {
          "output_type": "stream",
          "name": "stdout",
          "text": [
            "Violence\n",
            "Violence, ...\n",
            "Violence, ..., I dont like\n"
          ]
        }
      ]
    },
    {
      "cell_type": "code",
      "source": [
        "def kgf2(ceo):\n",
        "  print(ceo + \" of India\")\n",
        "\n",
        "kgf2(\"Toofan\")\n",
        "kgf2(\"Dheera\")\n",
        "kgf2(\"Mehbooba\")\n"
      ],
      "metadata": {
        "colab": {
          "base_uri": "https://localhost:8080/"
        },
        "id": "kiGxREzyXwn2",
        "outputId": "df4f29a7-a397-4853-e450-3cd851290edf"
      },
      "execution_count": null,
      "outputs": [
        {
          "output_type": "stream",
          "name": "stdout",
          "text": [
            "Toofan of India\n",
            "Dheera of India\n",
            "Mehbooba of India\n"
          ]
        }
      ]
    },
    {
      "cell_type": "code",
      "source": [
        "def my_function(fname):\n",
        "  print(fname + \" Refsnes\")\n",
        "\n",
        "my_function(\"Emil\")\n",
        "my_function(\"Tobias\")\n",
        "my_function(\"Linus\")\n"
      ],
      "metadata": {
        "colab": {
          "base_uri": "https://localhost:8080/"
        },
        "id": "4Pz5qbeMZcYm",
        "outputId": "aa2ea792-6b6f-40de-e7a1-7349a786fbc1"
      },
      "execution_count": null,
      "outputs": [
        {
          "output_type": "stream",
          "name": "stdout",
          "text": [
            "Emil Refsnes\n",
            "Tobias Refsnes\n",
            "Linus Refsnes\n"
          ]
        }
      ]
    },
    {
      "cell_type": "code",
      "source": [
        "def vote(age, gender, name):\n",
        "  print(\"age=\",age, \"gender=\",gender, \"name=\",name)\n",
        "  if age>=18:\n",
        "   print(\"Eligible\")\n",
        "  else:\n",
        "    print(\"Not Eligiblr\")\n",
        "vote(16, \"male\",\"YAsh\")"
      ],
      "metadata": {
        "colab": {
          "base_uri": "https://localhost:8080/"
        },
        "id": "JPT029cHaFs-",
        "outputId": "fa6372b6-02da-44bf-f7db-f3b3bbd89fcd"
      },
      "execution_count": null,
      "outputs": [
        {
          "output_type": "stream",
          "name": "stdout",
          "text": [
            "age= 16 gender= male name= YAsh\n",
            "Not Eligiblr\n"
          ]
        }
      ]
    },
    {
      "cell_type": "code",
      "source": [
        "def vote(age, gender, name):\n",
        "  print(\"age=\",age, \"gender=\",gender, \"name=\",name)\n",
        "  x= lambda age:age>18\n",
        "  print(\"Eligi\")\n",
        "vote(age=int(input()), gender=input(),name=input())"
      ],
      "metadata": {
        "colab": {
          "base_uri": "https://localhost:8080/"
        },
        "id": "XB0CDUFebvYM",
        "outputId": "e975fe97-4e79-4f50-b90c-a1df5598e0fe"
      },
      "execution_count": null,
      "outputs": [
        {
          "output_type": "stream",
          "name": "stdout",
          "text": [
            "22\n",
            "c vb\n",
            "hfgc2\n",
            "age= 22 gender= c vb name= hfgc2\n",
            "Eligi\n"
          ]
        }
      ]
    },
    {
      "cell_type": "code",
      "source": [
        "def vote(age, gender, name):\n",
        "  print(\"age=\",age, \"gender=\",gender, \"name=\",name)\n",
        "  x=age>18?print(\"Eligi\"):print(\" nattu Eligi\")\n",
        "vote(age=int(input()), gender=input(),name=input())"
      ],
      "metadata": {
        "colab": {
          "base_uri": "https://localhost:8080/",
          "height": 130
        },
        "id": "V__fpiUPfR7K",
        "outputId": "eeee17f6-b532-4023-f9f9-cdb295189c9a"
      },
      "execution_count": null,
      "outputs": [
        {
          "output_type": "error",
          "ename": "SyntaxError",
          "evalue": "ignored",
          "traceback": [
            "\u001b[0;36m  File \u001b[0;32m\"<ipython-input-50-3812a3ad3f4f>\"\u001b[0;36m, line \u001b[0;32m3\u001b[0m\n\u001b[0;31m    x=age>18?print(\"Eligi\"):print(\" nattu Eligi\")\u001b[0m\n\u001b[0m            ^\u001b[0m\n\u001b[0;31mSyntaxError\u001b[0m\u001b[0;31m:\u001b[0m invalid syntax\n"
          ]
        }
      ]
    },
    {
      "cell_type": "markdown",
      "source": [
        "#python built in functs"
      ],
      "metadata": {
        "id": "JMnz-b9LldEP"
      }
    },
    {
      "cell_type": "code",
      "source": [
        "#absolurte\n",
        "a=-25.5\n",
        "b=abs(a)\n",
        "print(b)\n",
        "#pow\n",
        "a=69\n",
        "b=pow(a,3)\n",
        "print(b)\n",
        "#max\n",
        "c=169\n",
        "f=196\n",
        "d=max(c,f)\n",
        "print(d)\n",
        "#all\n",
        "g=[True, True, False]\n",
        "h=all(g)\n",
        "print(h)\n",
        "#any\n",
        "g=[True, True, False]\n",
        "h=any(g)\n",
        "print(h)\n",
        "#ascii\n",
        "i = ascii(\"Ceo of India!!!\")\n",
        "print(i)"
      ],
      "metadata": {
        "colab": {
          "base_uri": "https://localhost:8080/"
        },
        "id": "B1Z_EOMxjK3P",
        "outputId": "3a954f02-a188-48a4-df69-5182a45a994d"
      },
      "execution_count": null,
      "outputs": [
        {
          "output_type": "stream",
          "name": "stdout",
          "text": [
            "25.5\n",
            "328509\n",
            "196\n",
            "False\n",
            "True\n",
            "'Ceo of India!!!'\n"
          ]
        }
      ]
    },
    {
      "cell_type": "code",
      "source": [
        ""
      ],
      "metadata": {
        "id": "jBP1E09slbnn"
      },
      "execution_count": null,
      "outputs": []
    }
  ]
}