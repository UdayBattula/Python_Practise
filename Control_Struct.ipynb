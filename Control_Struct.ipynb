{
  "nbformat": 4,
  "nbformat_minor": 0,
  "metadata": {
    "colab": {
      "name": "Untitled1.ipynb",
      "provenance": [],
      "authorship_tag": "ABX9TyPjXaWF8zmcXY4161Ly4ZTD",
      "include_colab_link": true
    },
    "kernelspec": {
      "name": "python3",
      "display_name": "Python 3"
    },
    "language_info": {
      "name": "python"
    }
  },
  "cells": [
    {
      "cell_type": "markdown",
      "metadata": {
        "id": "view-in-github",
        "colab_type": "text"
      },
      "source": [
        "<a href=\"https://colab.research.google.com/github/UdayBattula/Python_Practise/blob/main/Control_Struct.ipynb\" target=\"_parent\"><img src=\"https://colab.research.google.com/assets/colab-badge.svg\" alt=\"Open In Colab\"/></a>"
      ]
    },
    {
      "cell_type": "code",
      "execution_count": 7,
      "metadata": {
        "colab": {
          "base_uri": "https://localhost:8080/"
        },
        "id": "5LHX8zSMRYbn",
        "outputId": "06736579-f36c-4a4a-cc50-ef957445808d"
      },
      "outputs": [
        {
          "output_type": "stream",
          "name": "stdout",
          "text": [
            "eligible\n"
          ]
        }
      ],
      "source": [
        "#WAPP  to check if the person is eligible fpr voting or not\n",
        "#static\n",
        "a=50\n",
        "if a>=18:\n",
        "   print(\"eligible\")\n",
        "else:\n",
        "  print(\"not eligible\")"
      ]
    },
    {
      "cell_type": "code",
      "source": [
        "#dynamic\n",
        "a=int(input(\"Enter the Number\"))\n",
        "if a>=18:\n",
        "   print(\"eligible\")\n",
        "else:\n",
        "  print(\"not eligible\")"
      ],
      "metadata": {
        "colab": {
          "base_uri": "https://localhost:8080/"
        },
        "id": "Ehfq8XAaTTo0",
        "outputId": "05ec7a9d-1b8c-4236-9412-f17b7f842cfe"
      },
      "execution_count": 9,
      "outputs": [
        {
          "output_type": "stream",
          "name": "stdout",
          "text": [
            "Enter the Number2\n",
            "not eligible\n"
          ]
        }
      ]
    },
    {
      "cell_type": "markdown",
      "source": [
        ""
      ],
      "metadata": {
        "id": "3a38PdZTRdyx"
      }
    },
    {
      "cell_type": "code",
      "source": [
        "#greatest number\n",
        "#static\n",
        "a=21\n",
        "b=22\n",
        "c=365\n",
        "if a>b and a>c:\n",
        "  print(\"a is greatest\")\n",
        "elif b>a and b>c:\n",
        "  print(\"b is greeatest\")\n",
        "else:\n",
        "    print(\" c is greatest\")\n"
      ],
      "metadata": {
        "colab": {
          "base_uri": "https://localhost:8080/"
        },
        "id": "FY3IpSeRRczI",
        "outputId": "a4960c90-2792-4a17-8a41-19c45d210a0b"
      },
      "execution_count": 16,
      "outputs": [
        {
          "output_type": "stream",
          "name": "stdout",
          "text": [
            " c is greatest\n"
          ]
        }
      ]
    },
    {
      "cell_type": "code",
      "source": [
        "#dynamic \n",
        "#greatest\n",
        "a=int(input(\"Enter a number \"))\n",
        "b=int(input(\"Enter a number \"))\n",
        "c=int(input(\"Enter a number \"))\n",
        "if a>b and a>c:\n",
        "  print(a,\" is greatest\")\n",
        "elif b>a and b>c:\n",
        "  print(b,\" is greeatest\")\n",
        "else:\n",
        "    print(c,\" is greatest\")\n"
      ],
      "metadata": {
        "colab": {
          "base_uri": "https://localhost:8080/"
        },
        "id": "UAT4FiK8U4cD",
        "outputId": "6ba9dd7d-9cd6-4e92-8234-c955b1c3b40f"
      },
      "execution_count": 23,
      "outputs": [
        {
          "output_type": "stream",
          "name": "stdout",
          "text": [
            "Enter a number 55\n",
            "Enter a number 45\n",
            "Enter a number 5\n",
            "55  is greatest\n"
          ]
        }
      ]
    },
    {
      "cell_type": "code",
      "source": [
        "#enter five subject and display its greatest\n",
        "a=int(input(\"Enter 1st subject marks \"))\n",
        "b=int(input(\"Enter 2nd subject marks \"))\n",
        "c=int(input(\"Enter 3st subject marks \"))\n",
        "d=int(input(\"Enter 4th subject marks \"))\n",
        "e=int(input(\"Enter 5th subject marks \"))\n",
        "if a>b and a>c and "
      ],
      "metadata": {
        "id": "pB5Aut3mVcD4"
      },
      "execution_count": null,
      "outputs": []
    },
    {
      "cell_type": "markdown",
      "source": [
        "#Check whether the triangle is equilateral, isosceles, or scalene triangle."
      ],
      "metadata": {
        "id": "Y3SM2UTjXrEw"
      }
    },
    {
      "cell_type": "code",
      "source": [
        "\n",
        "a=int(input(\"Enter the 1st side length  \"))\n",
        "b=int(input(\"Enter the 2nd side length  \"))\n",
        "c=int(input(\"Enter the 3rd side length  \"))\n",
        "if a==b==c:\n",
        "      print(\"triangle is equil\")\n",
        "elif a==b and a!=c or a==c and b!=c or b==c and a!=c:\n",
        "      print(\"Traingle is isoscles\")\n",
        "elif a!=b and b!=c and a!=c:\n",
        "      print(\"Traingle is scalene\")"
      ],
      "metadata": {
        "colab": {
          "base_uri": "https://localhost:8080/"
        },
        "id": "9Tib83GjXdUg",
        "outputId": "34d24b31-d891-46be-b691-87538af91557"
      },
      "execution_count": 40,
      "outputs": [
        {
          "output_type": "stream",
          "name": "stdout",
          "text": [
            "Enter the 1st side length  65\n",
            "Enter the 2nd side length  4\n",
            "Enter the 3rd side length  64\n",
            "Traingle is scalene\n"
          ]
        }
      ]
    },
    {
      "cell_type": "markdown",
      "source": [
        "#Check whether entered year is a leap year or not"
      ],
      "metadata": {
        "id": "mkVJ_eNAbE0f"
      }
    },
    {
      "cell_type": "code",
      "source": [
        "a=int(input(\"Enter the year  \"))\n",
        "if a%4==0 and a%100!=0:\n",
        "  print(\"Leap yeer\")\n",
        "elif a%400==0:\n",
        "   print(\"Leap yeer\")\n",
        "else: \n",
        "  print(\"Not a leap\")"
      ],
      "metadata": {
        "colab": {
          "base_uri": "https://localhost:8080/"
        },
        "id": "Luw-FEPRbEjI",
        "outputId": "406cfde9-73b5-495a-95e7-013383db9dc7"
      },
      "execution_count": 47,
      "outputs": [
        {
          "output_type": "stream",
          "name": "stdout",
          "text": [
            "Enter the year  400\n",
            "Leap yeer\n"
          ]
        }
      ]
    },
    {
      "cell_type": "markdown",
      "source": [
        "#Find minimum among three numbers."
      ],
      "metadata": {
        "id": "D-wSkE8ecn7v"
      }
    },
    {
      "cell_type": "code",
      "source": [
        "a=int(input(\"Enter a number \"))\n",
        "b=int(input(\"Enter a number \"))\n",
        "c=int(input(\"Enter a number \"))\n",
        "if a<b and a<c:\n",
        "  print(a,\" is least\")\n",
        "elif b<a and b<c:\n",
        "  print(b,\" is lest\")\n",
        "else:\n",
        "    print(c,\" is least\")"
      ],
      "metadata": {
        "id": "XjDVmwn9cs1N"
      },
      "execution_count": null,
      "outputs": []
    },
    {
      "cell_type": "markdown",
      "source": [
        "#Check whether a number is divisible by 5 and 11 or not.\n"
      ],
      "metadata": {
        "id": "78QPCZTadaTH"
      }
    },
    {
      "cell_type": "code",
      "source": [
        "a=int(input(\"Enter a number \"))\n",
        "if a%5==0 and a%11==0:\n",
        "      print(\"Divisible by both 5 & 11\")\n",
        "elif a%5==0 and a%11!=0:\n",
        "      print(\"Divisible by 5 but not with 11\")\n",
        "elif a%5!=0 and a%11==0:\n",
        "      print(\"Divisible by 5 but not with 11\")\n",
        "else\n",
        "       print(\"Not divisible by any\")"
      ],
      "metadata": {
        "colab": {
          "base_uri": "https://localhost:8080/"
        },
        "id": "jPphsX0DdiA9",
        "outputId": "5d95d5f4-6724-4c09-a2b5-b479e42a3a71"
      },
      "execution_count": 57,
      "outputs": [
        {
          "output_type": "stream",
          "name": "stdout",
          "text": [
            "Enter a number 55\n",
            "Divisible by both 5 & 11\n"
          ]
        }
      ]
    }
  ]
}