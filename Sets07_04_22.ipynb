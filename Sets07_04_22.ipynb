{
  "nbformat": 4,
  "nbformat_minor": 0,
  "metadata": {
    "colab": {
      "name": "Sets07/04/22.ipynb",
      "provenance": [],
      "authorship_tag": "ABX9TyPebulfZq/bCn2N8ezxKneT",
      "include_colab_link": true
    },
    "kernelspec": {
      "name": "python3",
      "display_name": "Python 3"
    },
    "language_info": {
      "name": "python"
    }
  },
  "cells": [
    {
      "cell_type": "markdown",
      "metadata": {
        "id": "view-in-github",
        "colab_type": "text"
      },
      "source": [
        "<a href=\"https://colab.research.google.com/github/UdayBattula/Python_Practise/blob/main/Sets07_04_22.ipynb\" target=\"_parent\"><img src=\"https://colab.research.google.com/assets/colab-badge.svg\" alt=\"Open In Colab\"/></a>"
      ]
    },
    {
      "cell_type": "markdown",
      "source": [
        "#sets"
      ],
      "metadata": {
        "id": "jFqqtqoF2mEG"
      }
    },
    {
      "cell_type": "code",
      "execution_count": 6,
      "metadata": {
        "colab": {
          "base_uri": "https://localhost:8080/"
        },
        "id": "oU96iPwM02Go",
        "outputId": "4f0316a7-6d38-4ca0-b1ef-a03fb313d0e7"
      },
      "outputs": [
        {
          "output_type": "stream",
          "name": "stdout",
          "text": [
            "{'cherry', 'apple', 'banana'}\n",
            "{'cherry', 'apple', 'banana', 'orange'}\n",
            "{'cherry', 'apple', 'banana', 'orange'}\n",
            "{'papaya', 'cherry', 'banana', 'pineapple', 'mango', 'apple', 'orange'}\n",
            "{'papaya', 'cherry', 'banana', 'pineapple', 'mango', 'apple', 'orange'}\n"
          ]
        }
      ],
      "source": [
        "fruitss = {\"apple\", \"banana\", \"cherry\"}\n",
        "print(fruitss)\n",
        "fruitss.add(\"orange\")\n",
        "print(fruitss)\n",
        "fruitss.add(\"orange\")\n",
        "print(fruitss)\n",
        "\n",
        "tropical = {\"pineapple\", \"mango\", \"papaya\"}\n",
        "fruitss.update(tropical)\n",
        "print(fruitss)\n",
        "\n",
        "x = fruitss.copy()\n",
        "\n",
        "print(x)\n"
      ]
    },
    {
      "cell_type": "code",
      "source": [
        ""
      ],
      "metadata": {
        "id": "IVHefuP327el"
      },
      "execution_count": null,
      "outputs": []
    }
  ]
}