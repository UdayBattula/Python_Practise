{
  "nbformat": 4,
  "nbformat_minor": 0,
  "metadata": {
    "colab": {
      "name": "Tuple07/04/22.ipynb",
      "provenance": [],
      "authorship_tag": "ABX9TyM6je30UKRLt2IQFMn2nu6W",
      "include_colab_link": true
    },
    "kernelspec": {
      "name": "python3",
      "display_name": "Python 3"
    },
    "language_info": {
      "name": "python"
    }
  },
  "cells": [
    {
      "cell_type": "markdown",
      "metadata": {
        "id": "view-in-github",
        "colab_type": "text"
      },
      "source": [
        "<a href=\"https://colab.research.google.com/github/UdayBattula/Python_Practise/blob/main/Tuple07_04_22.ipynb\" target=\"_parent\"><img src=\"https://colab.research.google.com/assets/colab-badge.svg\" alt=\"Open In Colab\"/></a>"
      ]
    },
    {
      "cell_type": "code",
      "execution_count": null,
      "metadata": {
        "id": "r1QxsMYPjXi1"
      },
      "outputs": [],
      "source": [
        "a=(56, 65, 96)\n"
      ]
    },
    {
      "cell_type": "markdown",
      "source": [
        "##Functions in Tuple"
      ],
      "metadata": {
        "id": "lWgDH0FHoUU4"
      }
    },
    {
      "cell_type": "code",
      "source": [
        "fruit = (\"apple\", \"banana\", \"cherry\",\"BlueBerry\",\"Strawberry\",\"JackalBerry\",\"orange\",\"apple\",\"apple\")\n",
        "print(fruit)\n",
        "print(len(fruit))\n",
        "print(type(fruit))\n",
        "print(fruit[1])\n",
        "print(fruit[-1])\n",
        "print(fruit[2:5])\n",
        "print(fruit[:4])\n",
        "print(fruit[2:])\n",
        "print(fruit[-4:-1])\n",
        "if \"apple\" in fruit:\n",
        "  print(\"Yes, 'apple' is in the fruits tuple\")"
      ],
      "metadata": {
        "colab": {
          "base_uri": "https://localhost:8080/"
        },
        "id": "bfYGqEZ2m0jl",
        "outputId": "5da8d261-7360-4798-fbe7-d4fddd305fbf"
      },
      "execution_count": 3,
      "outputs": [
        {
          "output_type": "stream",
          "name": "stdout",
          "text": [
            "('apple', 'banana', 'cherry', 'BlueBerry', 'Strawberry', 'JackalBerry', 'orange', 'apple', 'apple')\n",
            "9\n",
            "<class 'tuple'>\n",
            "banana\n",
            "apple\n",
            "('cherry', 'BlueBerry', 'Strawberry')\n",
            "('apple', 'banana', 'cherry', 'BlueBerry')\n",
            "('cherry', 'BlueBerry', 'Strawberry', 'JackalBerry', 'orange', 'apple', 'apple')\n",
            "('JackalBerry', 'orange', 'apple')\n",
            "Yes, 'apple' is in the fruits tuple\n"
          ]
        }
      ]
    },
    {
      "cell_type": "markdown",
      "source": [
        "##Remove,Add, Change"
      ],
      "metadata": {
        "id": "JCmQyRazog6z"
      }
    },
    {
      "cell_type": "code",
      "source": [
        "fruit = (\"apple\", \"banana\", \"cherry\",\"BlueBerry\",\"Strawberry\",\"JackalBerry\",\"orange\",\"apple\",\"apple\")\n",
        "print(fruit)\n",
        "y = list(fruit)\n",
        "y[1] = \"kiwi\"\n",
        "fruit = tuple(y)\n",
        "print(fruit)\n",
        "\n",
        "y = list(fruit)\n",
        "y.append(\"Melon\")\n",
        "fruit = tuple(y)\n",
        "print(fruit)\n",
        "\n",
        "y = (\"orange\",)\n",
        "fruit += y\n",
        "print(fruit)\n",
        "\n",
        "\n",
        "\n",
        "y = list(fruit)\n",
        "L=y.count(\"apple\")\n",
        "print(L)\n",
        "fruit = tuple(y)\n",
        "print(fruit)\n",
        "\n",
        "\n"
      ],
      "metadata": {
        "colab": {
          "base_uri": "https://localhost:8080/"
        },
        "id": "3EN_dQuTor1K",
        "outputId": "45f7bf38-6bda-44b5-b598-767235266076"
      },
      "execution_count": 24,
      "outputs": [
        {
          "output_type": "stream",
          "name": "stdout",
          "text": [
            "('apple', 'banana', 'cherry', 'BlueBerry', 'Strawberry', 'JackalBerry', 'orange', 'apple', 'apple')\n",
            "('apple', 'kiwi', 'cherry', 'BlueBerry', 'Strawberry', 'JackalBerry', 'orange', 'apple', 'apple')\n",
            "('apple', 'kiwi', 'cherry', 'BlueBerry', 'Strawberry', 'JackalBerry', 'orange', 'apple', 'apple', 'Melon')\n",
            "('apple', 'kiwi', 'cherry', 'BlueBerry', 'Strawberry', 'JackalBerry', 'orange', 'apple', 'apple', 'Melon', 'orange')\n",
            "3\n",
            "('apple', 'kiwi', 'cherry', 'BlueBerry', 'Strawberry', 'JackalBerry', 'orange', 'apple', 'apple', 'Melon', 'orange')\n"
          ]
        }
      ]
    },
    {
      "cell_type": "code",
      "source": [
        ""
      ],
      "metadata": {
        "id": "nEz10KDtpQQo"
      },
      "execution_count": null,
      "outputs": []
    },
    {
      "cell_type": "markdown",
      "source": [
        "#Loops"
      ],
      "metadata": {
        "id": "F7p4BwMhyp11"
      }
    },
    {
      "cell_type": "code",
      "source": [
        "fruits = (\"apple\", \"banana\", \"cherry\",\"BlueBerry\",\"Strawberry\",\"JackalBerry\")\n",
        "for x in fruits:\n",
        "  print(x)\n",
        "for i in range(len(fruits)):\n",
        "  print(fruits[i])\n",
        "i = 0\n",
        "while i < len(fruits):\n",
        "  print(fruits[i])\n",
        "  i = i + 1"
      ],
      "metadata": {
        "colab": {
          "base_uri": "https://localhost:8080/"
        },
        "id": "u3fa5Vv4yrF1",
        "outputId": "a50ddf38-d4da-4697-afa2-b550220d79bd"
      },
      "execution_count": 29,
      "outputs": [
        {
          "output_type": "stream",
          "name": "stdout",
          "text": [
            "apple\n",
            "banana\n",
            "cherry\n",
            "BlueBerry\n",
            "Strawberry\n",
            "JackalBerry\n",
            "apple\n",
            "banana\n",
            "cherry\n",
            "BlueBerry\n",
            "Strawberry\n",
            "JackalBerry\n",
            "apple\n",
            "banana\n",
            "cherry\n",
            "BlueBerry\n",
            "Strawberry\n",
            "JackalBerry\n"
          ]
        }
      ]
    },
    {
      "cell_type": "code",
      "source": [
        ""
      ],
      "metadata": {
        "id": "Z-y3G8Afy2t0"
      },
      "execution_count": null,
      "outputs": []
    }
  ]
}