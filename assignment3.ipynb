{
  "nbformat": 4,
  "nbformat_minor": 0,
  "metadata": {
    "colab": {
      "name": "assignment3.ipynb",
      "provenance": [],
      "collapsed_sections": [],
      "include_colab_link": true
    },
    "kernelspec": {
      "name": "python3",
      "display_name": "Python 3"
    },
    "language_info": {
      "name": "python"
    }
  },
  "cells": [
    {
      "cell_type": "markdown",
      "metadata": {
        "id": "view-in-github",
        "colab_type": "text"
      },
      "source": [
        "<a href=\"https://colab.research.google.com/github/UdayBattula/Python_Practise/blob/main/assignment3.ipynb\" target=\"_parent\"><img src=\"https://colab.research.google.com/assets/colab-badge.svg\" alt=\"Open In Colab\"/></a>"
      ]
    },
    {
      "cell_type": "markdown",
      "source": [
        "To print odd no in given range"
      ],
      "metadata": {
        "id": "7FSBjOAGdqh-"
      }
    },
    {
      "cell_type": "code",
      "source": [
        "a=int(input())\n",
        "b=int(input())\n",
        "for i in range(a,b):\n",
        "  if i%2!=0:\n",
        "    print(i)"
      ],
      "metadata": {
        "colab": {
          "base_uri": "https://localhost:8080/",
          "height": 0
        },
        "id": "KxSUjY6ud1js",
        "outputId": "0e01d758-9992-4d02-aab7-1bb6934630d1"
      },
      "execution_count": 4,
      "outputs": [
        {
          "output_type": "stream",
          "name": "stdout",
          "text": [
            "2\n",
            "10\n",
            "3\n",
            "5\n",
            "7\n",
            "9\n"
          ]
        }
      ]
    },
    {
      "cell_type": "markdown",
      "source": [
        "To print prime no in given range"
      ],
      "metadata": {
        "id": "HTi4jmK5ecMm"
      }
    },
    {
      "cell_type": "code",
      "source": [
        "def prime(a,b):\n",
        "  \n",
        "  for i in range(a,b+1):\n",
        "    k=0\n",
        "    for j in range(2,i):\n",
        "      if i%j==0:\n",
        "        k+=1\n",
        "    if k==0:\n",
        "      print(i)\n",
        "      \n",
        "l=int(input(\"enter number 1: \"))\n",
        "m=int(input(\"Enter number 2: \"))\n",
        "prime(l,m)"
      ],
      "metadata": {
        "colab": {
          "base_uri": "https://localhost:8080/",
          "height": 0
        },
        "id": "uNLUzEp6ei3N",
        "outputId": "9b169862-84aa-4ba1-a8c1-5d0888de477e"
      },
      "execution_count": 6,
      "outputs": [
        {
          "output_type": "stream",
          "name": "stdout",
          "text": [
            "enter number 1: 1\n",
            "Enter number 2: 010\n",
            "1\n",
            "2\n",
            "3\n",
            "5\n",
            "7\n"
          ]
        }
      ]
    },
    {
      "cell_type": "markdown",
      "source": [
        "TO PRINT no of days in a month"
      ],
      "metadata": {
        "id": "p6UFvsEYfNEu"
      }
    },
    {
      "cell_type": "code",
      "source": [
        "a=int(input(\"enter any month num \"))\n",
        "if a==1 or a==3 or a==5 or a==7 or a==8 or a==10 or a==12:\n",
        "  print(\"31 days\")\n",
        "elif a==4 or a==6 or a==9 or a==11:\n",
        "  print(\"30 days\")\n",
        "else:\n",
        "  print(\"28 or 29 days\")"
      ],
      "metadata": {
        "colab": {
          "base_uri": "https://localhost:8080/",
          "height": 0
        },
        "id": "j-8XnMR3fW3l",
        "outputId": "2ffb386f-079a-4f19-b692-6f4c06084d58"
      },
      "execution_count": 7,
      "outputs": [
        {
          "output_type": "stream",
          "name": "stdout",
          "text": [
            "enter any month num 6\n",
            "30 days\n"
          ]
        }
      ]
    },
    {
      "cell_type": "markdown",
      "source": [
        "To print even length"
      ],
      "metadata": {
        "id": "QmV7A7Hnk822"
      }
    },
    {
      "cell_type": "code",
      "source": [
        " s = str(input())\n",
        " s=s.split(' ')\n",
        "for x in s:\n",
        "  if len(x)%2==1:\n",
        "    print(x,end=\" \")"
      ],
      "metadata": {
        "colab": {
          "base_uri": "https://localhost:8080/",
          "height": 0
        },
        "id": "r-v7yrqok9f_",
        "outputId": "98f21e22-3802-41d6-a57d-e9e6f430e09c"
      },
      "execution_count": 8,
      "outputs": [
        {
          "output_type": "stream",
          "name": "stdout",
          "text": [
            "Dj Tillu\n",
            "Tillu "
          ]
        }
      ]
    },
    {
      "cell_type": "markdown",
      "source": [
        "To print 1st and last capital\n"
      ],
      "metadata": {
        "id": "0iMJTKFwmfof"
      }
    },
    {
      "cell_type": "code",
      "source": [
        "a=input(\"Enter a string \")\n",
        "b=a.split(' ')\n",
        "s=''\n",
        "for i in b :\n",
        "  x=i.capitalize()\n",
        "  y=i[-1].capitalize()\n",
        "  s=x[0:-1]+y\n",
        "  print(s,end=' ')"
      ],
      "metadata": {
        "id": "D5alO1sdm6f2",
        "colab": {
          "base_uri": "https://localhost:8080/",
          "height": 0
        },
        "outputId": "acfe328a-3169-40ad-c6ff-09ebc6ee1b82"
      },
      "execution_count": 9,
      "outputs": [
        {
          "output_type": "stream",
          "name": "stdout",
          "text": [
            "Enter a string eyeryone is a gangster until see a monster\n",
            "EyeryonE IS A GangsteR UntiL SeE A MonsteR "
          ]
        }
      ]
    },
    {
      "cell_type": "markdown",
      "source": [
        "To convert multiple integers to single integers"
      ],
      "metadata": {
        "id": "SmntpseOpP2A"
      }
    },
    {
      "cell_type": "code",
      "source": [
        "a=[10,13,15,17]\n",
        "for i in a:\n",
        "  print(i,end=\"\")"
      ],
      "metadata": {
        "colab": {
          "base_uri": "https://localhost:8080/"
        },
        "id": "OmrDt4WDpYvX",
        "outputId": "88ed4a71-5f79-4936-a8c9-fbbbef233422"
      },
      "execution_count": null,
      "outputs": [
        {
          "output_type": "stream",
          "name": "stdout",
          "text": [
            "10131517"
          ]
        }
      ]
    },
    {
      "cell_type": "markdown",
      "source": [
        "Write a program to print power of no "
      ],
      "metadata": {
        "id": "pKiUdZ41KA9p"
      }
    },
    {
      "cell_type": "code",
      "source": [
        "a=int(input())\n",
        "b=int(input())\n",
        "c=pow(a,b)\n",
        "c"
      ],
      "metadata": {
        "colab": {
          "base_uri": "https://localhost:8080/",
          "height": 0
        },
        "id": "ASSK20o5KIip",
        "outputId": "1f18f450-98c5-4ca8-95fe-7a304c7276f9"
      },
      "execution_count": 25,
      "outputs": [
        {
          "name": "stdout",
          "output_type": "stream",
          "text": [
            "14\n",
            "6\n"
          ]
        },
        {
          "output_type": "execute_result",
          "data": {
            "text/plain": [
              "7529536"
            ]
          },
          "metadata": {},
          "execution_count": 25
        }
      ]
    },
    {
      "cell_type": "markdown",
      "source": [
        "To sort tupple by total digits input\n",
        "list=[(3,4,6,723),(1,2)(134,234,34)]\n",
        "\n",
        "*   List item\n",
        "*   List item\n",
        "\n"
      ],
      "metadata": {
        "id": "kwnxuyqDKJOR"
      }
    },
    {
      "cell_type": "code",
      "source": [
        "list=[(3,4,6,723),(1,2),(134,234,34)]\n",
        "list.sort()\n",
        "print(list)"
      ],
      "metadata": {
        "id": "w1pUqyZuKXtS",
        "colab": {
          "base_uri": "https://localhost:8080/"
        },
        "outputId": "730623f5-ea44-4866-8560-401713e58905"
      },
      "execution_count": null,
      "outputs": [
        {
          "output_type": "stream",
          "name": "stdout",
          "text": [
            "[(1, 2), (3, 4, 6, 723), (134, 234, 34)]\n"
          ]
        }
      ]
    },
    {
      "cell_type": "markdown",
      "source": [
        "Take 5 subject marks from student and display the grade of student"
      ],
      "metadata": {
        "id": "VhbKtR-lKrlr"
      }
    },
    {
      "cell_type": "code",
      "source": [
        "s1=int(input())\n",
        "s2=int(input())\n",
        "s3=int(input())\n",
        "s4=int(input())\n",
        "s5=int(input())\n",
        "avg=(s1+s2+s3+s4+s5)/5\n",
        "if avg>90:\n",
        "  print(\"A+\")\n",
        "elif 80<avg<90:\n",
        "  print(\"A\") \n",
        "elif 70<avg<80:\n",
        "  print(\"B\") \n",
        "elif 60<avg<70:\n",
        "  print(\"C\") \n",
        "elif 50<avg<60:\n",
        "  print(\"D\") \n",
        "elif 40<avg<50:\n",
        "  print(\"E\")    \n",
        "else:\n",
        "  print(\"F\")        "
      ],
      "metadata": {
        "id": "3o_dwdfgLHzR",
        "colab": {
          "base_uri": "https://localhost:8080/",
          "height": 0
        },
        "outputId": "60aa9c17-963c-4c01-b8cc-87b190ae168a"
      },
      "execution_count": 24,
      "outputs": [
        {
          "output_type": "stream",
          "name": "stdout",
          "text": [
            "9\n",
            "6\n",
            "0\n",
            "3\n",
            "8\n",
            "F\n"
          ]
        }
      ]
    },
    {
      "cell_type": "markdown",
      "source": [
        "Write a python program that prints 1 if all no are in ascending order"
      ],
      "metadata": {
        "id": "EBIJ58-VLIS6"
      }
    },
    {
      "cell_type": "code",
      "source": [
        "a=int(input())\n",
        "b=int(input())\n",
        "c=int(input())\n",
        "if a<b<c :\n",
        "  print(\"1\")\n",
        "else:\n",
        "  print(\"0\")  "
      ],
      "metadata": {
        "id": "vX2qflO-LoA6",
        "colab": {
          "base_uri": "https://localhost:8080/",
          "height": 0
        },
        "outputId": "a5663f88-939a-4df0-8691-0c48e19c4ce6"
      },
      "execution_count": 23,
      "outputs": [
        {
          "output_type": "stream",
          "name": "stdout",
          "text": [
            "7\n",
            "8\n",
            "9\n",
            "1\n"
          ]
        }
      ]
    },
    {
      "cell_type": "markdown",
      "source": [
        "Check give no is perfect or not"
      ],
      "metadata": {
        "id": "dTXqobNkLoKZ"
      }
    },
    {
      "cell_type": "code",
      "source": [
        "n = int(input())\n",
        "sum = 0\n",
        "for i in range(1, n):\n",
        "    if(n % i == 0):\n",
        "        sum = sum + i\n",
        "if (sum == n):\n",
        "    print(\"The number is a Perfect number\")\n",
        "else:\n",
        "    print(\"The number is not a Perfect number\")"
      ],
      "metadata": {
        "id": "zQfqedKvMH0p",
        "colab": {
          "base_uri": "https://localhost:8080/",
          "height": 0
        },
        "outputId": "b2b134d2-7184-4c1a-9012-3ac31f46d25d"
      },
      "execution_count": 22,
      "outputs": [
        {
          "output_type": "stream",
          "name": "stdout",
          "text": [
            "96\n",
            "The number is not a Perfect number\n"
          ]
        }
      ]
    },
    {
      "cell_type": "markdown",
      "source": [
        "Find Gcd of given no with and without recrusion"
      ],
      "metadata": {
        "id": "Nc5xlRwyMIOR"
      }
    },
    {
      "cell_type": "code",
      "source": [
        "def gcd(a,b):\n",
        "    if(b==0):\n",
        "        return a\n",
        "    else:\n",
        "        return gcd(b,a%b)\n",
        "a=int(input(\"Enter first number:\"))\n",
        "b=int(input(\"Enter second number:\"))\n",
        "GCD=gcd(a,b)\n",
        "print(\"GCD is: \")\n",
        "print(GCD)                "
      ],
      "metadata": {
        "id": "HAgCEC72MqH6",
        "colab": {
          "base_uri": "https://localhost:8080/"
        },
        "outputId": "d774ae54-3a8b-425a-ad84-380746042a58"
      },
      "execution_count": null,
      "outputs": [
        {
          "output_type": "stream",
          "name": "stdout",
          "text": [
            "Enter first number:12\n",
            "Enter second number:24\n",
            "GCD is: \n",
            "12\n"
          ]
        }
      ]
    },
    {
      "cell_type": "markdown",
      "source": [
        "print sum of even digits in a no"
      ],
      "metadata": {
        "id": "Q6ObtiEFMqX7"
      }
    },
    {
      "cell_type": "code",
      "source": [
        "a=str(input())\n",
        "sum=0\n",
        "for i in a:\n",
        "  if int(i)%2==0:\n",
        "    sum=sum+int(i)\n",
        "print(sum)"
      ],
      "metadata": {
        "id": "TFxpynm7N1UT",
        "colab": {
          "base_uri": "https://localhost:8080/",
          "height": 0
        },
        "outputId": "a87f11ee-fdb7-4fd1-b351-5a2b1bc5ce3a"
      },
      "execution_count": 21,
      "outputs": [
        {
          "output_type": "stream",
          "name": "stdout",
          "text": [
            "6845164987\n",
            "36\n"
          ]
        }
      ]
    },
    {
      "cell_type": "markdown",
      "source": [
        "Calculate the  sum of squares of digits of a no."
      ],
      "metadata": {
        "id": "Cy1CTHf_M_pa"
      }
    },
    {
      "cell_type": "code",
      "source": [
        "num = int(input())\n",
        "sum = 0\n",
        "while num!=0:\n",
        "    rem = num%10\n",
        "    sqr = rem*rem\n",
        "    sum = sum+sqr\n",
        "    num = int(num/10)\n",
        "print(sum)"
      ],
      "metadata": {
        "id": "685Xb0-xNWSh",
        "colab": {
          "base_uri": "https://localhost:8080/",
          "height": 0
        },
        "outputId": "c859e4c0-ee87-4ca9-a820-50ed131e76f5"
      },
      "execution_count": 19,
      "outputs": [
        {
          "output_type": "stream",
          "name": "stdout",
          "text": [
            "452\n",
            "45\n"
          ]
        }
      ]
    },
    {
      "cell_type": "markdown",
      "source": [
        "given a string is s=abcdefcba how many times i "
      ],
      "metadata": {
        "id": "1bw2Cbw4NWrh"
      }
    },
    {
      "cell_type": "code",
      "source": [
        "a=str(input())\n",
        "b=a[::-1]\n",
        "l=int((len(a)/2))\n",
        "c=0\n",
        "for i in range(0,l):\n",
        "  if a[i]==b[i]:\n",
        "    c=c+1\n",
        "print(c)"
      ],
      "metadata": {
        "colab": {
          "base_uri": "https://localhost:8080/"
        },
        "id": "uhK6gZ6eN2AB",
        "outputId": "958fa97f-3d1d-4194-f211-53ba320b28ba"
      },
      "execution_count": null,
      "outputs": [
        {
          "output_type": "stream",
          "name": "stdout",
          "text": [
            "abcdbc\n",
            "1\n"
          ]
        }
      ]
    },
    {
      "cell_type": "markdown",
      "source": [
        "print count front back matches"
      ],
      "metadata": {
        "id": "CQuJqOUJN2Jh"
      }
    },
    {
      "cell_type": "code",
      "source": [
        "a=str(input())\n",
        "b=a[::-1]\n",
        "l=int((len(a)/2))\n",
        "c=0\n",
        "for i in range(0,l):\n",
        "  if a[i]==b[i]:\n",
        "    c=c+1\n",
        "print(c)"
      ],
      "metadata": {
        "colab": {
          "base_uri": "https://localhost:8080/"
        },
        "id": "MgAoHpfmOmNq",
        "outputId": "0667c24c-d64b-4ee3-ac81-801b72034e50"
      },
      "execution_count": null,
      "outputs": [
        {
          "output_type": "stream",
          "name": "stdout",
          "text": [
            "abcdfghjdcba\n",
            "4\n"
          ]
        }
      ]
    },
    {
      "cell_type": "markdown",
      "source": [
        "repeat the n no for n times [1,2,2,3,3,3,4,4,4,4]"
      ],
      "metadata": {
        "id": "uDwW0xWAOmYz"
      }
    },
    {
      "cell_type": "code",
      "source": [
        "n=int(input())\n",
        "a=0\n",
        "for x in range(0,n):\n",
        "  if a<x:\n",
        "   print(x*x)\n",
        "  "
      ],
      "metadata": {
        "id": "hYwXTFsTOzbC",
        "colab": {
          "base_uri": "https://localhost:8080/",
          "height": 0
        },
        "outputId": "bb7b9a4b-93d3-46a8-c625-797bbb998fc0"
      },
      "execution_count": 18,
      "outputs": [
        {
          "output_type": "stream",
          "name": "stdout",
          "text": [
            "5\n",
            "1\n",
            "4\n",
            "9\n",
            "16\n"
          ]
        }
      ]
    },
    {
      "cell_type": "markdown",
      "source": [
        "print no of vowels and consonants"
      ],
      "metadata": {
        "id": "HEaSMf7qOzqK"
      }
    },
    {
      "cell_type": "code",
      "source": [
        "a=input()\n",
        "v=0\n",
        "c=0\n",
        "for i in a:\n",
        "  if i=='a' or i=='e' or i=='o'or i=='u'or i=='i' or i=='A' or i=='E' or i=='O'or i=='U'or i=='I':\n",
        "    v+=1\n",
        "  else:\n",
        "    c+=1\n",
        "print(v)\n",
        "print(c)"
      ],
      "metadata": {
        "colab": {
          "base_uri": "https://localhost:8080/",
          "height": 0
        },
        "id": "4xPlyVs3PXji",
        "outputId": "305c0869-14e3-41f6-fa2f-1cd592ca0aa9"
      },
      "execution_count": 17,
      "outputs": [
        {
          "output_type": "stream",
          "name": "stdout",
          "text": [
            "uvkUVHXKvhkaskULVYLYH\n",
            "4\n",
            "17\n"
          ]
        }
      ]
    },
    {
      "cell_type": "markdown",
      "source": [
        "given two integers A and B .if  a<b print all no in ascending or else in descending"
      ],
      "metadata": {
        "id": "LJlGHGwMPXvi"
      }
    },
    {
      "cell_type": "code",
      "source": [
        "a=int(input())\n",
        "b=int(input())\n",
        "if a<b:\n",
        "  for i in range(a,b):\n",
        "    print(i)\n",
        "else:\n",
        "  for i in range(a,b,-1):\n",
        "    print(i)    "
      ],
      "metadata": {
        "colab": {
          "base_uri": "https://localhost:8080/",
          "height": 0
        },
        "id": "emxTzfKnPr_S",
        "outputId": "d966aad9-f88d-45c9-b176-d3e4407a3054"
      },
      "execution_count": 15,
      "outputs": [
        {
          "output_type": "stream",
          "name": "stdout",
          "text": [
            "2\n",
            "8\n",
            "2\n",
            "3\n",
            "4\n",
            "5\n",
            "6\n",
            "7\n"
          ]
        }
      ]
    },
    {
      "cell_type": "markdown",
      "source": [
        "fin max of 3 no\n"
      ],
      "metadata": {
        "id": "dSdX1TAePsOL"
      }
    },
    {
      "cell_type": "code",
      "source": [
        "a=int(input())\n",
        "b=int(input())\n",
        "c=int(input())\n",
        "if (a >= b) and (a >= c):\n",
        "   largest = a\n",
        "elif (b >= a) and (b >= c):\n",
        "   largest = b\n",
        "else:\n",
        "   largest = c\n",
        "\n",
        "print(\"The largest number is\", largest)"
      ],
      "metadata": {
        "id": "v9cQedUPPu-S",
        "colab": {
          "base_uri": "https://localhost:8080/",
          "height": 0
        },
        "outputId": "e67aa7ee-4822-4339-ab91-bcc3f13ff333"
      },
      "execution_count": 13,
      "outputs": [
        {
          "output_type": "stream",
          "name": "stdout",
          "text": [
            "69\n",
            "698\n",
            "6969\n",
            "The largest number is 6969\n"
          ]
        }
      ]
    },
    {
      "cell_type": "markdown",
      "source": [
        "write a program to count no of strings where the string length is 2 or more and 1st and last is same\n",
        " "
      ],
      "metadata": {
        "id": "Uex3RWOWPvE0"
      }
    },
    {
      "cell_type": "code",
      "source": [
        "def match(words):\n",
        "  d=0\n",
        "  for x in words:\n",
        "    if len(word) > 1 and x[0] == x[-1]:\n",
        "      d+=1\n",
        "  return d\n",
        "  print(match(['abc','xyz','aba','1221']))"
      ],
      "metadata": {
        "id": "o2beqMceQi6x"
      },
      "execution_count": 12,
      "outputs": []
    },
    {
      "cell_type": "markdown",
      "source": [
        "days as input,no of round trips ,cal the tot distance if tot dis is <40000m print need  to work hard"
      ],
      "metadata": {
        "id": "9VZDNKCtQjFx"
      }
    },
    {
      "cell_type": "code",
      "source": [
        "days=int(input())\n",
        "no=int(input(\"enter no of meters\"))\n",
        "dis=days*no\n",
        "if dis<40000:\n",
        "  print(\"need to work more\")\n",
        "else:\n",
        "  print(\"good work\")  "
      ],
      "metadata": {
        "id": "4mUOOef8RdxU",
        "colab": {
          "base_uri": "https://localhost:8080/",
          "height": 0
        },
        "outputId": "cade160e-bb7d-4189-c3d2-3db3f4841a4d"
      },
      "execution_count": 10,
      "outputs": [
        {
          "output_type": "stream",
          "name": "stdout",
          "text": [
            "985\n",
            "enter no of meters589\n",
            "good work\n"
          ]
        }
      ]
    },
    {
      "cell_type": "markdown",
      "source": [
        "given a list of students names i l and a charcter and display the names whose name are given in capital. "
      ],
      "metadata": {
        "id": "gIYuCLFmR5KF"
      }
    },
    {
      "cell_type": "code",
      "source": [
        "test_str =['hello','Hello']\n",
        "print(\"The original string is : \" + str(test_str))\n",
        "for ele in test_str:\n",
        "   if ele.isupper():\n",
        "     print(ele)"
      ],
      "metadata": {
        "id": "bTjfxup-Sdw7",
        "colab": {
          "base_uri": "https://localhost:8080/"
        },
        "outputId": "0ca72148-c960-4fc5-f11d-48e7aeab7487"
      },
      "execution_count": null,
      "outputs": [
        {
          "output_type": "stream",
          "name": "stdout",
          "text": [
            "The original string is : ['hello', 'Hello']\n"
          ]
        }
      ]
    },
    {
      "cell_type": "markdown",
      "source": [
        "given a list of city names whose len is greater than given len\n",
        "['Delhi','Mumbai','Goa']"
      ],
      "metadata": {
        "id": "iGMDXsG0Sd5U"
      }
    },
    {
      "cell_type": "code",
      "source": [
        "list=['delhi','Mumbai','Goa']\n",
        "l=int(input())\n",
        "for x in list:\n",
        "  if len(x)>l:\n",
        "    print(x)"
      ],
      "metadata": {
        "id": "W2YhghJVTDeX",
        "colab": {
          "base_uri": "https://localhost:8080/"
        },
        "outputId": "bb5a356d-f331-4b2b-9a9f-da6aa7578c6d"
      },
      "execution_count": null,
      "outputs": [
        {
          "output_type": "stream",
          "name": "stdout",
          "text": [
            "3\n",
            "delhi\n",
            "Mumbai\n"
          ]
        }
      ]
    }
  ]
}