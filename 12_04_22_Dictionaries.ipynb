{
  "nbformat": 4,
  "nbformat_minor": 0,
  "metadata": {
    "colab": {
      "name": "12/04/22_Dictionaries.ipynb",
      "provenance": [],
      "collapsed_sections": [],
      "authorship_tag": "ABX9TyMO/vQ6JWoE9fM3FtQKnqkL",
      "include_colab_link": true
    },
    "kernelspec": {
      "name": "python3",
      "display_name": "Python 3"
    },
    "language_info": {
      "name": "python"
    }
  },
  "cells": [
    {
      "cell_type": "markdown",
      "metadata": {
        "id": "view-in-github",
        "colab_type": "text"
      },
      "source": [
        "<a href=\"https://colab.research.google.com/github/UdayBattula/Python_Practise/blob/main/12_04_22_Dictionaries.ipynb\" target=\"_parent\"><img src=\"https://colab.research.google.com/assets/colab-badge.svg\" alt=\"Open In Colab\"/></a>"
      ]
    },
    {
      "cell_type": "code",
      "execution_count": 8,
      "metadata": {
        "colab": {
          "base_uri": "https://localhost:8080/"
        },
        "id": "h1jNJvTQfPAa",
        "outputId": "ed3d66f1-ad9e-4534-fae0-d622181e0831"
      },
      "outputs": [
        {
          "output_type": "stream",
          "name": "stdout",
          "text": [
            "{'brand': 'Ford', 'model': 'Mustang', 'year': 1964}\n",
            "Ford\n"
          ]
        }
      ],
      "source": [
        "#Car Model\n",
        "car = {\n",
        "  \"brand\": \"Ford\",\n",
        "  \"model\": \"Mustang\",\n",
        "  \"year\": 1964\n",
        "}\n",
        "print(car)\n",
        "print(car[\"brand\"])"
      ]
    },
    {
      "cell_type": "code",
      "source": [
        "car1 = {\n",
        "  \"brand\": \"Jaguar\",\n",
        "  \"model\": \"mustang\",\n",
        "  \"year\": 1983\n",
        "}\n",
        "\n",
        "print(car1)\n",
        "print(car1[\"brand\"])\n",
        "print(car1.keys())\n",
        "print(car1.values())\n",
        "car1[\"brand\"]=\"RollsRoyce\"\n",
        "print(car1)"
      ],
      "metadata": {
        "colab": {
          "base_uri": "https://localhost:8080/"
        },
        "id": "V0iysDq1flbQ",
        "outputId": "5bc4264b-2044-4475-fc07-7df607cee0be"
      },
      "execution_count": 13,
      "outputs": [
        {
          "output_type": "stream",
          "name": "stdout",
          "text": [
            "{'brand': 'Jaguar', 'model': 'mustang', 'year': 1983}\n",
            "Jaguar\n",
            "dict_keys(['brand', 'model', 'year'])\n",
            "dict_values(['Jaguar', 'mustang', 1983])\n",
            "{'brand': 'RollsRoyce', 'model': 'mustang', 'year': 1983}\n"
          ]
        }
      ]
    },
    {
      "cell_type": "code",
      "source": [
        "#placement\n",
        " = {\n",
        "  \"name\": \"Jaguar\",\n",
        "  \"age\": 21,\n",
        "  \"Course\": \"Cse-AiMl\",\n",
        "  \"CGPA\":99.989,\n",
        "  \"Attendance\":\"91%\"\n",
        "}\n",
        "\n",
        "print(data)\n",
        "print(data[\"name\"])\n",
        "print(data.keys())\n",
        "print(data.values())"
      ],
      "metadata": {
        "colab": {
          "base_uri": "https://localhost:8080/"
        },
        "id": "DdzG-qlpgHae",
        "outputId": "ce567827-4e71-48f4-9916-605400051285"
      },
      "execution_count": 20,
      "outputs": [
        {
          "output_type": "stream",
          "name": "stdout",
          "text": [
            "{'name': 'Jaguar', 'age': 21, 'Course': 'Cse-AiMl', 'CGPA': 99.989, 'Attendance': '91%'}\n",
            "Jaguar\n",
            "dict_keys(['name', 'age', 'Course', 'CGPA', 'Attendance'])\n",
            "dict_values(['Jaguar', 21, 'Cse-AiMl', 99.989, '91%'])\n"
          ]
        }
      ]
    },
    {
      "cell_type": "code",
      "source": [
        "#dyanmic {Placemnt}\n",
        "Placemnt = {\n",
        "  \"name\": input(\"Enter Your name \"),\n",
        "  \"age\": input(\"Enter your age \"),\n",
        "  \"Course\": input(\"Enter your Course \"),\n",
        "  \"CGPA\":input(\"Enter your CGPA \"),\n",
        "  \"Attendance\":\"91%\"\n",
        "}\n",
        "print(Placemnt)\n"
      ],
      "metadata": {
        "colab": {
          "base_uri": "https://localhost:8080/"
        },
        "id": "rSdFK1byhMAv",
        "outputId": "ddb69149-a4f2-4c28-9f4e-8e436adbd3e7"
      },
      "execution_count": 29,
      "outputs": [
        {
          "output_type": "stream",
          "name": "stdout",
          "text": [
            "Enter Your name fbf\n",
            "Enter your age fghjn\n",
            "Enter your Course ghj\n",
            "Enter your CGPA gkhk\n",
            "{'name': 'fbf', 'age': 'fghjn', 'Course': 'ghj', 'CGPA': 'gkhk', 'Attendance': '91%'}\n"
          ]
        }
      ]
    },
    {
      "cell_type": "code",
      "source": [
        "#update\n",
        "data = {\n",
        "  \"name\": input(\"Enter Your name \"),\n",
        "  \"age\": input(\"Enter your age \"),\n",
        "  \"Course\": input(\"Enter your Course \"),\n",
        "  \"CGPA\":input(\"Enter your CGPA \"),\n",
        "  \"Attendance\":\"91%\"\n",
        "}\n",
        "data.update({\"Attendance\":\"95%\"})\n",
        "data.update({\"Backlogs\":\"12\"})\n",
        "\n",
        "print(data)"
      ],
      "metadata": {
        "colab": {
          "base_uri": "https://localhost:8080/"
        },
        "id": "JTq77zaNjBBv",
        "outputId": "b8c27969-fa6a-43b4-b731-1f6e1aae5681"
      },
      "execution_count": 26,
      "outputs": [
        {
          "output_type": "stream",
          "name": "stdout",
          "text": [
            "Enter Your name leela\n",
            "Enter your age 19\n",
            "Enter your Course AIML\\DS\\CS\\\n",
            "Enter your CGPA 4.8\n",
            "{'name': 'leela', 'age': '19', 'Course': 'AIML\\\\DS\\\\CS\\\\', 'CGPA': '4.8', 'Attendance': '95%', 'Backlogs': '12'}\n"
          ]
        }
      ]
    },
    {
      "cell_type": "code",
      "source": [
        ""
      ],
      "metadata": {
        "id": "BK-hlh1zkFXf"
      },
      "execution_count": 24,
      "outputs": []
    }
  ]
}