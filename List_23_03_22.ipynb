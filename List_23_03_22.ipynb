{
  "nbformat": 4,
  "nbformat_minor": 0,
  "metadata": {
    "colab": {
      "name": "List/23-03-22.ipynb",
      "provenance": [],
      "authorship_tag": "ABX9TyNdtcty704NTlZcKvWbq9N4",
      "include_colab_link": true
    },
    "kernelspec": {
      "name": "python3",
      "display_name": "Python 3"
    },
    "language_info": {
      "name": "python"
    }
  },
  "cells": [
    {
      "cell_type": "markdown",
      "metadata": {
        "id": "view-in-github",
        "colab_type": "text"
      },
      "source": [
        "<a href=\"https://colab.research.google.com/github/UdayBattula/Python_Practise/blob/main/List_23_03_22.ipynb\" target=\"_parent\"><img src=\"https://colab.research.google.com/assets/colab-badge.svg\" alt=\"Open In Colab\"/></a>"
      ]
    },
    {
      "cell_type": "markdown",
      "source": [
        "## fruit names"
      ],
      "metadata": {
        "id": "w8Dg2r684qeM"
      }
    },
    {
      "cell_type": "code",
      "execution_count": 81,
      "metadata": {
        "colab": {
          "base_uri": "https://localhost:8080/"
        },
        "id": "4Q3AEXa54mwm",
        "outputId": "73b917e4-26f5-497e-cdde-7d139c7fd287"
      },
      "outputs": [
        {
          "output_type": "stream",
          "name": "stdout",
          "text": [
            "['mango', 'apple', 'orange', 'pappaya', 'strawberry']\n",
            "strawberry\n",
            "strawberry\n",
            "['apple', 'orange', 'pappaya', 'strawberry']\n",
            "['orange', 'pappaya', 'strawberry']\n",
            "['mango', 'apple', 'orange']\n",
            "pappaya\n",
            "['mango', 'cherry', 'orange', 'pappaya', 'strawberry']\n",
            "['mango', 'cherry', 'orange', 'pappaya', 'strawberry', 'BlueBerry']\n",
            "6\n",
            "['mango', 'cherry', 'orange', 'pappaya', 'strawberry', 'BlueBerry', 'J', 'a', 'c', 'k', 'a', 'l', ' ', 'B', 'e', 'r', 'r', 'r', 'y', 'y']\n"
          ]
        }
      ],
      "source": [
        "fruit= ['mango', 'apple', 'orange', 'pappaya', 'strawberry']\n",
        "print(fruit[0:5])\n",
        "print(fruit[4])\n",
        "print(fruit[-1])\n",
        "print(fruit[-4:])\n",
        "print(fruit[2:])\n",
        "print(fruit[:3])\n",
        "print(fruit[3])\n",
        "fruit[1]='cherry'\n",
        "print(fruit[0:])\n",
        "fruit.append('BlueBerry')\n",
        "print(fruit[0:])\n",
        "print(len(fruit))\n",
        "fruit.extend('Jackal Berrryy')\n",
        "print(fruit[0:])"
      ]
    },
    {
      "cell_type": "code",
      "source": [
        ""
      ],
      "metadata": {
        "id": "LUHrZpgYGQpC"
      },
      "execution_count": null,
      "outputs": []
    },
    {
      "cell_type": "markdown",
      "source": [
        "## appending & Inserting & reverse &Sort & pop"
      ],
      "metadata": {
        "id": "f_yWqmntGRhh"
      }
    },
    {
      "cell_type": "code",
      "source": [
        "fruit= ['mango', 'apple', 'orange', 'pappaya', 'strawberry']\n",
        "print(fruit)\n",
        "fruit.append('BlueBerry')\n",
        "print(fruit)\n",
        "fruit.insert(-2,'JackalBerry')\n",
        "print(fruit)\n",
        "(fruit.reverse())\n",
        "print(fruit)\n",
        "fruit.sort()\n",
        "print(fruit)\n",
        "fruit.pop(2)\n",
        "print(fruit)\n",
        "b=fruit.copy()\n",
        "print(b)\n",
        "b.clear()\n",
        "print(b)\n",
        "print(len(fruit))\n",
        "fruit.extend('kiwi')\n",
        "print(fruit)\n",
        "print(len(fruit))"
      ],
      "metadata": {
        "colab": {
          "base_uri": "https://localhost:8080/"
        },
        "id": "LgZSsw4OGWFI",
        "outputId": "276c95e2-abd2-427b-9f33-3099a277491e"
      },
      "execution_count": 84,
      "outputs": [
        {
          "output_type": "stream",
          "name": "stdout",
          "text": [
            "['mango', 'apple', 'orange', 'pappaya', 'strawberry']\n",
            "['mango', 'apple', 'orange', 'pappaya', 'strawberry', 'BlueBerry']\n",
            "['mango', 'apple', 'orange', 'pappaya', 'JackalBerry', 'strawberry', 'BlueBerry']\n",
            "['BlueBerry', 'strawberry', 'JackalBerry', 'pappaya', 'orange', 'apple', 'mango']\n",
            "['BlueBerry', 'JackalBerry', 'apple', 'mango', 'orange', 'pappaya', 'strawberry']\n",
            "['BlueBerry', 'JackalBerry', 'mango', 'orange', 'pappaya', 'strawberry']\n",
            "['BlueBerry', 'JackalBerry', 'mango', 'orange', 'pappaya', 'strawberry']\n",
            "[]\n",
            "6\n",
            "['BlueBerry', 'JackalBerry', 'mango', 'orange', 'pappaya', 'strawberry', 'k', 'i', 'w', 'i']\n",
            "10\n"
          ]
        }
      ]
    },
    {
      "cell_type": "markdown",
      "source": [
        "## num"
      ],
      "metadata": {
        "id": "4UShhDYe8MSU"
      }
    },
    {
      "cell_type": "code",
      "source": [
        "a=[33, 36, 69, 96]\n",
        "b=[336,341,280,325]\n",
        "print(a[2])\n",
        "print(a[0]+a[1])\n",
        "print(2*a[2]-(a[0]+a[1]))\n",
        "print(a+b)\n",
        "for i in range (0,4,3):\n",
        " print(a[i]+b[i])\n",
        " "
      ],
      "metadata": {
        "colab": {
          "base_uri": "https://localhost:8080/"
        },
        "id": "w0XrZhPJ5Tlq",
        "outputId": "b1d38ef8-de11-41db-b30b-c90f19495427"
      },
      "execution_count": 38,
      "outputs": [
        {
          "output_type": "stream",
          "name": "stdout",
          "text": [
            "69\n",
            "69\n",
            "69\n",
            "[33, 36, 69, 96, 336, 341, 280, 325]\n",
            "369\n",
            "421\n"
          ]
        }
      ]
    },
    {
      "cell_type": "markdown",
      "source": [
        "## nested list"
      ],
      "metadata": {
        "id": "7NfPaAaaAUVJ"
      }
    },
    {
      "cell_type": "code",
      "source": [
        "my_list = ['p', 'r', 'o', 'b', 'e']\n",
        "\n",
        "# first item\n",
        "print(my_list[0])  # p\n",
        "\n",
        "# third item\n",
        "print(my_list[2])  # o\n",
        "\n",
        "# fifth item\n",
        "print(my_list[4])  # e\n",
        "\n",
        "# Nested List\n",
        "n_list = [\"Happy\", [2, 0, 1, 5]]\n",
        "\n",
        "# Nested indexing\n",
        "print(n_list[0][1])\n",
        "\n",
        "print(n_list[1][3])\n",
        "\n",
        "# Error! Only integer can be used for indexing\n",
        "print(my_list[4.0])"
      ],
      "metadata": {
        "colab": {
          "base_uri": "https://localhost:8080/",
          "height": 286
        },
        "id": "H8Xjl8q79ABC",
        "outputId": "b3cb38a0-ab66-43d2-ea52-6d7ca868b87a"
      },
      "execution_count": 39,
      "outputs": [
        {
          "output_type": "stream",
          "name": "stdout",
          "text": [
            "p\n",
            "o\n",
            "e\n",
            "a\n",
            "5\n"
          ]
        },
        {
          "output_type": "error",
          "ename": "TypeError",
          "evalue": "ignored",
          "traceback": [
            "\u001b[0;31m---------------------------------------------------------------------------\u001b[0m",
            "\u001b[0;31mTypeError\u001b[0m                                 Traceback (most recent call last)",
            "\u001b[0;32m<ipython-input-39-947d63342a45>\u001b[0m in \u001b[0;36m<module>\u001b[0;34m()\u001b[0m\n\u001b[1;32m     19\u001b[0m \u001b[0;34m\u001b[0m\u001b[0m\n\u001b[1;32m     20\u001b[0m \u001b[0;31m# Error! Only integer can be used for indexing\u001b[0m\u001b[0;34m\u001b[0m\u001b[0;34m\u001b[0m\u001b[0;34m\u001b[0m\u001b[0m\n\u001b[0;32m---> 21\u001b[0;31m \u001b[0mprint\u001b[0m\u001b[0;34m(\u001b[0m\u001b[0mmy_list\u001b[0m\u001b[0;34m[\u001b[0m\u001b[0;36m4.0\u001b[0m\u001b[0;34m]\u001b[0m\u001b[0;34m)\u001b[0m\u001b[0;34m\u001b[0m\u001b[0;34m\u001b[0m\u001b[0m\n\u001b[0m",
            "\u001b[0;31mTypeError\u001b[0m: list indices must be integers or slices, not float"
          ]
        }
      ]
    },
    {
      "cell_type": "code",
      "source": [
        "for i in range(1, 5):\n",
        "  print(i)"
      ],
      "metadata": {
        "colab": {
          "base_uri": "https://localhost:8080/"
        },
        "id": "CAMmgdQkAil4",
        "outputId": "7427ae60-91bc-42be-a3bf-b673c250b624"
      },
      "execution_count": 47,
      "outputs": [
        {
          "output_type": "stream",
          "name": "stdout",
          "text": [
            "1\n",
            "2\n",
            "3\n",
            "4\n"
          ]
        }
      ]
    },
    {
      "cell_type": "code",
      "source": [
        "for i in range(-30, -69, -2):\n",
        "  print(i)\n"
      ],
      "metadata": {
        "colab": {
          "base_uri": "https://localhost:8080/"
        },
        "id": "9dxjS0QsDNCB",
        "outputId": "f9b45cd5-2812-4f00-bd62-c6189619638d"
      },
      "execution_count": 50,
      "outputs": [
        {
          "output_type": "stream",
          "name": "stdout",
          "text": [
            "-30\n",
            "-32\n",
            "-34\n",
            "-36\n",
            "-38\n",
            "-40\n",
            "-42\n",
            "-44\n",
            "-46\n",
            "-48\n",
            "-50\n",
            "-52\n",
            "-54\n",
            "-56\n",
            "-58\n",
            "-60\n",
            "-62\n",
            "-64\n",
            "-66\n",
            "-68\n"
          ]
        }
      ]
    },
    {
      "cell_type": "code",
      "source": [
        ""
      ],
      "metadata": {
        "id": "_sN0JO3pEBtR"
      },
      "execution_count": null,
      "outputs": []
    }
  ]
}