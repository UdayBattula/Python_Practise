{
  "nbformat": 4,
  "nbformat_minor": 0,
  "metadata": {
    "colab": {
      "name": "assignment1.ipynb",
      "provenance": [],
      "collapsed_sections": [],
      "authorship_tag": "ABX9TyPA6Yeaq0gU1s18kitYhX3q",
      "include_colab_link": true
    },
    "kernelspec": {
      "name": "python3",
      "display_name": "Python 3"
    },
    "language_info": {
      "name": "python"
    }
  },
  "cells": [
    {
      "cell_type": "markdown",
      "metadata": {
        "id": "view-in-github",
        "colab_type": "text"
      },
      "source": [
        "<a href=\"https://colab.research.google.com/github/UdayBattula/Python_Practise/blob/main/assignment1.ipynb\" target=\"_parent\"><img src=\"https://colab.research.google.com/assets/colab-badge.svg\" alt=\"Open In Colab\"/></a>"
      ]
    },
    {
      "cell_type": "markdown",
      "source": [
        "#Accept input from user and store it in variable and print the value.\n"
      ],
      "metadata": {
        "id": "4TvWFWx2UQUk"
      }
    },
    {
      "cell_type": "code",
      "source": [
        "a=input(\"Enter any value:- \")\n",
        "b=a\n",
        "print(a)"
      ],
      "metadata": {
        "colab": {
          "base_uri": "https://localhost:8080/"
        },
        "id": "ZLB2tNY3UYXg",
        "outputId": "27623b0e-f989-4396-cb5e-cdb3b821fd3e"
      },
      "execution_count": null,
      "outputs": [
        {
          "output_type": "stream",
          "name": "stdout",
          "text": [
            "Enter any value:- dc\n",
            "dc\n"
          ]
        }
      ]
    },
    {
      "cell_type": "markdown",
      "source": [
        "#x Use of print statements and use of (.format )for printing different data types.\n"
      ],
      "metadata": {
        "id": "_qWWeMFaVH4N"
      }
    },
    {
      "cell_type": "code",
      "source": [
        "a=69.69;\n",
        "print(type(a));\n",
        "b=bool(a);\n",
        "print(b);\n",
        "print(type(b));\n",
        "e=str(a);\n",
        "print(e);\n",
        "print(type(e));\n",
        "c=complex(a);\n",
        "print(c);\n",
        "print(type(c));\n",
        "d=int(a);\n",
        "print(d);\n",
        "print(type(d));\n"
      ],
      "metadata": {
        "id": "ytPtoApTUwKl",
        "colab": {
          "base_uri": "https://localhost:8080/",
          "height": 0
        },
        "outputId": "3a16769c-97bf-49a4-aec6-ca1bd92a46a5"
      },
      "execution_count": 3,
      "outputs": [
        {
          "output_type": "stream",
          "name": "stdout",
          "text": [
            "<class 'float'>\n",
            "True\n",
            "<class 'bool'>\n",
            "69.69\n",
            "<class 'str'>\n",
            "(69.69+0j)\n",
            "<class 'complex'>\n",
            "69\n",
            "<class 'int'>\n"
          ]
        }
      ]
    },
    {
      "cell_type": "markdown",
      "source": [
        "#Take 2 numbers as user input and add, multiply, divide, subtract, remainder and print the output"
      ],
      "metadata": {
        "id": "dE4aJVLZmK-p"
      }
    },
    {
      "cell_type": "code",
      "source": [
        "num1=int(input())\n",
        "num2=int(input())\n",
        "sum=num1+num2\n",
        "multi=num1*num2\n",
        "div=num1/num2\n",
        "sub=num1-num2\n",
        "print(sum,multi,div,sub)"
      ],
      "metadata": {
        "colab": {
          "base_uri": "https://localhost:8080/",
          "height": 0
        },
        "id": "IeyzB6fymNk-",
        "outputId": "fac33366-d98c-42ec-9a8f-9721db03813e"
      },
      "execution_count": 5,
      "outputs": [
        {
          "output_type": "stream",
          "name": "stdout",
          "text": [
            "69\n",
            "693\n",
            "762 47817 0.09956709956709957 -624\n"
          ]
        }
      ]
    },
    {
      "cell_type": "markdown",
      "source": [
        "#Conversion of one unit to another (such as hours to minutes, miles to km and etc)"
      ],
      "metadata": {
        "id": "ix5fwXS9mrVl"
      }
    },
    {
      "cell_type": "code",
      "source": [
        "hour=int(input())\n",
        "miles=float(input())\n",
        "min=hour*60\n",
        "km=1.60934*miles\n",
        "print(min,km)"
      ],
      "metadata": {
        "colab": {
          "base_uri": "https://localhost:8080/",
          "height": 0
        },
        "id": "Vdtq8UuGmhpp",
        "outputId": "6085a3e4-9d04-420b-86e6-90cfec4693f4"
      },
      "execution_count": 2,
      "outputs": [
        {
          "output_type": "stream",
          "name": "stdout",
          "text": [
            "25\n",
            "25\n",
            "1500 40.2335\n"
          ]
        }
      ]
    },
    {
      "cell_type": "markdown",
      "source": [
        "####Usage of mathematical functions in python like math.ceil, floor, fabs, fmod, trunc,pow, sqrt etc"
      ],
      "metadata": {
        "id": "KAXlnMeifQCp"
      }
    },
    {
      "cell_type": "code",
      "source": [
        "import math\n",
        "print(math.ceil(6.9))\n",
        "print(math.floor(6.9))\n",
        "print(math.fmod(69, 96))\n",
        "print(math.fabs(-69))\n",
        "print(math.trunc(69.69))\n",
        "x = pow(6, 9)\n",
        "print(x)\n",
        "print (math.sqrt(36))"
      ],
      "metadata": {
        "colab": {
          "base_uri": "https://localhost:8080/",
          "height": 0
        },
        "id": "PGBMO6YAZ2S-",
        "outputId": "7cc87d67-4f17-4256-ac18-10ba1a6b4301"
      },
      "execution_count": 12,
      "outputs": [
        {
          "output_type": "stream",
          "name": "stdout",
          "text": [
            "7\n",
            "6\n",
            "69.0\n",
            "69.0\n",
            "69\n",
            "10077696\n",
            "6.0\n"
          ]
        }
      ]
    },
    {
      "cell_type": "markdown",
      "source": [
        "## Building a mathematical calculator that can perform operations according to user input."
      ],
      "metadata": {
        "id": "mj0vt66Yg6Zm"
      }
    },
    {
      "cell_type": "code",
      "source": [
        "no1 = float(input(\"Enter 1st number: \"))\n",
        "no2 = float(input(\"Enter 2nd number: \"))\n",
        "print(\"Operation: +, -, *, / ??\")\n",
        "select = input(\"Select operation: \")\n",
        "if select == \"+\":\n",
        "    print(no1, \"+\", no2, \"=\", no1+no2)\n",
        "elif select == \"-\":\n",
        "    print(no1, \"-\", no2, \"=\", no1-no2)\n",
        "elif select == \"*\":\n",
        "    print(no1, \"*\", no2, \"=\", no1*no2)\n",
        "elif select == \"/\":\n",
        "    print(no1, \"/\", no2, \"=\", no1/no2)\n",
        "else:\n",
        "    print(\"Check your input\")"
      ],
      "metadata": {
        "colab": {
          "base_uri": "https://localhost:8080/",
          "height": 0
        },
        "id": "0n9CG_kZfr3N",
        "outputId": "74c0fdf5-1281-4194-bfe5-225d609ace03"
      },
      "execution_count": 16,
      "outputs": [
        {
          "output_type": "stream",
          "name": "stdout",
          "text": [
            "Enter 1st number: 3\n",
            "Enter 2nd number: 23\n",
            "Operation: +, -, *, / ??\n",
            "Select operation: *\n",
            "3.0 * 23.0 = 69.0\n"
          ]
        }
      ]
    },
    {
      "cell_type": "markdown",
      "source": [
        "###Accepting 5 different subject marks from user and displaying the grade of the student"
      ],
      "metadata": {
        "id": "ZvZ_ShOyiWc7"
      }
    },
    {
      "cell_type": "code",
      "source": [
        "english=int(input())\n",
        "social=int(input())\n",
        "politics=int(input())\n",
        "science=int(input())\n",
        "math=int(input())\n",
        "total=(english+science+politics+social+math)/5\n",
        "if total > 90:\n",
        "  print(\"Waste, Out Get out \")\n",
        "elif total > 80 :\n",
        "  print(\"Could be worse, Better luck next time\")\n",
        "elif total > 70 :\n",
        "  print(\"Dont work too hard\")\n",
        "elif total > 60 :\n",
        "  print(\"Enjoy\")    \n",
        "elif total > 50 :\n",
        "  print(\"Chill man ;)\")\n",
        "elif total > 40 :\n",
        "  print(\"Wonderful, Whistle Podu\")\n",
        "else:\n",
        "  print(\"U will be successful in life!!\")"
      ],
      "metadata": {
        "colab": {
          "base_uri": "https://localhost:8080/",
          "height": 0
        },
        "id": "uWJZWJC0ixZ1",
        "outputId": "cc6a1f6f-8b0d-4021-d487-46082eef0238"
      },
      "execution_count": 21,
      "outputs": [
        {
          "output_type": "stream",
          "name": "stdout",
          "text": [
            "6\n",
            "9\n",
            "6\n",
            "9\n",
            "6\n",
            "U will be successful in life!!\n"
          ]
        }
      ]
    },
    {
      "cell_type": "markdown",
      "source": [
        "# Printing all even numbers, odd numbers, count of even numbers, count of odd numbers within a given range.\n"
      ],
      "metadata": {
        "id": "N1-jeP8KlpWS"
      }
    },
    {
      "cell_type": "code",
      "source": [
        "no1=int(input())\n",
        "no2=int(input())\n",
        "c=0  #c is count of even numbers\n",
        "o=0 \n",
        "for x in range(no1,no2):\n",
        "  if(x%2==0) :\n",
        "    print(x,\"is even\")\n",
        "    c=c+1\n",
        "  elif(x%2!=0) :\n",
        "    print(x,\"is odd\")\n",
        "    o=o+1\n",
        "print(c,\"Num of odd nums in the given range\")\n",
        "print(o,\"num of even nums in the given range\")"
      ],
      "metadata": {
        "colab": {
          "base_uri": "https://localhost:8080/",
          "height": 0
        },
        "id": "fqZilBMgk6Ng",
        "outputId": "710f225a-dbee-4348-8ac5-69967209341a"
      },
      "execution_count": 31,
      "outputs": [
        {
          "output_type": "stream",
          "name": "stdout",
          "text": [
            "1\n",
            "18\n",
            "1 is odd\n",
            "2 is even\n",
            "3 is odd\n",
            "4 is even\n",
            "5 is odd\n",
            "6 is even\n",
            "7 is odd\n",
            "8 is even\n",
            "9 is odd\n",
            "10 is even\n",
            "11 is odd\n",
            "12 is even\n",
            "13 is odd\n",
            "14 is even\n",
            "15 is odd\n",
            "16 is even\n",
            "17 is odd\n",
            "8 Num of odd nums in the given range\n",
            "9 num of even nums in the given range\n"
          ]
        }
      ]
    },
    {
      "cell_type": "markdown",
      "source": [
        "###Compute the factorial of a given number"
      ],
      "metadata": {
        "id": "LevvRd5womy2"
      }
    },
    {
      "cell_type": "code",
      "source": [
        "number = int(input(\"Enter a no: \"))    \n",
        "factorial = 1    \n",
        "if number < 0:    \n",
        "   print(\" Factorial does not exist for negative nos\")    \n",
        "elif number == 0:    \n",
        "   print(\"The factorial of 0 is 1\")    \n",
        "else:    \n",
        "   for i in range(1,number + 1):    \n",
        "       factorial = factorial*i    \n",
        "   print(\"The factorial of\",number,\"is\",factorial) "
      ],
      "metadata": {
        "colab": {
          "base_uri": "https://localhost:8080/",
          "height": 0
        },
        "id": "lufqovwnmC8k",
        "outputId": "23ef19a3-0f04-4fe7-c820-47a1d7999202"
      },
      "execution_count": 32,
      "outputs": [
        {
          "output_type": "stream",
          "name": "stdout",
          "text": [
            "Enter a no: 9\n",
            "The factorial of 9 is 362880\n"
          ]
        }
      ]
    },
    {
      "cell_type": "markdown",
      "source": [
        "###Compute GCD of two given numbers"
      ],
      "metadata": {
        "id": "SlHHJfbipGOm"
      }
    },
    {
      "cell_type": "code",
      "source": [
        "a =int(input(\"Enter a no: \")) \n",
        "b =int(input(\"Enter a no: \"))\n",
        "if a > b:\n",
        "  a, b = b, a\n",
        "for i in range(1,a+1):\n",
        "  if a%i == 0 and b%i == 0:\n",
        "    gcd = i\n",
        "\n",
        "print(\"GCD of\", a, \"and\", b, \"is:\", gcd)"
      ],
      "metadata": {
        "colab": {
          "base_uri": "https://localhost:8080/",
          "height": 0
        },
        "id": "7hZG71VlouRy",
        "outputId": "d2509a1e-f8f8-4871-c32a-d0b89194948b"
      },
      "execution_count": 34,
      "outputs": [
        {
          "output_type": "stream",
          "name": "stdout",
          "text": [
            "Enter a no: 6\n",
            "Enter a no: 9\n",
            "GCD of 6 and 9 is: 3\n"
          ]
        }
      ]
    },
    {
      "cell_type": "markdown",
      "source": [
        "###Generate Fibonacci series up to N numbers\n"
      ],
      "metadata": {
        "id": "ZA2E9SwhqNnS"
      }
    },
    {
      "cell_type": "code",
      "source": [
        "n = int(input(\"Series Upto= ??\"))\n",
        "num1, num2 = 0, 1\n",
        "c = 0\n",
        "print(\"Fibonacci sequence:\")\n",
        "while c < n:\n",
        "       print(num1)\n",
        "       nth = num1 + num2\n",
        "       num1 = num2\n",
        "       num2 = nth\n",
        "       c += 1"
      ],
      "metadata": {
        "colab": {
          "base_uri": "https://localhost:8080/",
          "height": 0
        },
        "id": "FLE2z72ypMDJ",
        "outputId": "2a9486fd-3121-4ba4-c932-5ad0e6a8a8cc"
      },
      "execution_count": 35,
      "outputs": [
        {
          "output_type": "stream",
          "name": "stdout",
          "text": [
            "Series Upto= ??9\n",
            "Fibonacci sequence:\n",
            "0\n",
            "1\n",
            "1\n",
            "2\n",
            "3\n",
            "5\n",
            "8\n",
            "13\n",
            "21\n"
          ]
        }
      ]
    },
    {
      "cell_type": "markdown",
      "source": [
        "###Check whether the given input is palindrome"
      ],
      "metadata": {
        "id": "q_9qZsskqyS3"
      }
    },
    {
      "cell_type": "code",
      "source": [
        "no=int(input(\"Enter a num:\"))\n",
        "a=no\n",
        "reverse=0\n",
        "while(no>0):\n",
        "    dgiit=no%10\n",
        "    reverse=reverse*10+dgiit\n",
        "    no=no//10\n",
        "if(a==reverse):\n",
        "    print(\"palindrome!\")\n",
        "else:\n",
        "    print(\"Not a palindrome\")"
      ],
      "metadata": {
        "colab": {
          "base_uri": "https://localhost:8080/",
          "height": 0
        },
        "id": "TxeXGj6xqqT2",
        "outputId": "13c5f9cd-0942-4dc2-f757-4e7889c589f5"
      },
      "execution_count": 37,
      "outputs": [
        {
          "output_type": "stream",
          "name": "stdout",
          "text": [
            "Enter a num:696\n",
            "palindrome!\n"
          ]
        }
      ]
    },
    {
      "cell_type": "markdown",
      "source": [
        "###Check whether the given input is strong Number"
      ],
      "metadata": {
        "id": "SmYTHxvksk1G"
      }
    },
    {
      "cell_type": "code",
      "source": [
        "num=int(input(\"Enter a number:\"))\n",
        "sum=0\n",
        "act=num\n",
        "while(num):\n",
        "    i=1\n",
        "    f=1\n",
        "    r=num%10\n",
        "    while(i<=r):\n",
        "        f=f*i\n",
        "        i=i+1\n",
        "    sum=sum+f\n",
        "    num=num//10\n",
        "if(sum==act):\n",
        "    print(\"The number is a strong number\")\n",
        "else:\n",
        "    print(\"The number is not a strong number\")"
      ],
      "metadata": {
        "colab": {
          "base_uri": "https://localhost:8080/",
          "height": 0
        },
        "id": "4tGqx8MfsU9y",
        "outputId": "67a43d8b-019c-4403-9c58-93eefcef22f8"
      },
      "execution_count": 38,
      "outputs": [
        {
          "output_type": "stream",
          "name": "stdout",
          "text": [
            "Enter a number:856\n",
            "The number is not a strong number\n"
          ]
        }
      ]
    },
    {
      "cell_type": "markdown",
      "source": [
        "###Check whether the given input is perfect"
      ],
      "metadata": {
        "id": "rdu5TF9hzgLq"
      }
    },
    {
      "cell_type": "code",
      "source": [
        "no=int(input(\"Enter a number:\"))\n",
        "s=0\n",
        "for i in range(1, no):\n",
        "    if(no % i == 0):\n",
        "        s = s + i\n",
        "if (s == no):\n",
        "    print(\"Perfect number\")\n",
        "else:\n",
        "    print(\"not a Perfect number\")"
      ],
      "metadata": {
        "colab": {
          "base_uri": "https://localhost:8080/",
          "height": 0
        },
        "id": "kNB3rqJYzXOr",
        "outputId": "9f4324c7-7bc0-4653-b092-13cf8e9b1b8f"
      },
      "execution_count": 39,
      "outputs": [
        {
          "output_type": "stream",
          "name": "stdout",
          "text": [
            "Enter a number:85\n",
            "not a Perfect number\n"
          ]
        }
      ]
    },
    {
      "cell_type": "markdown",
      "source": [
        "##Compute compound interest using loop for a certain principal and interest amount"
      ],
      "metadata": {
        "id": "K8gZjP43zzvx"
      }
    },
    {
      "cell_type": "code",
      "source": [
        "x=int(input(\"principle amount:\"))\n",
        "rate=int(input(\"rate:\"))\n",
        "years=int(input(\"number of years:\"))\n",
        "for i in range(years):\n",
        "    x=x+((x*rate)/100)\n",
        "print(x)"
      ],
      "metadata": {
        "colab": {
          "base_uri": "https://localhost:8080/",
          "height": 0
        },
        "id": "oVoNB_JozpSX",
        "outputId": "85c6382f-7023-432c-d18b-b1f2c6859a6a"
      },
      "execution_count": 41,
      "outputs": [
        {
          "output_type": "stream",
          "name": "stdout",
          "text": [
            "principle amount:696969\n",
            "rate:9\n",
            "number of years:9\n",
            "1513742.2870796267\n"
          ]
        }
      ]
    }
  ]
}