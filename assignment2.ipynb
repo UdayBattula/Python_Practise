{
  "nbformat": 4,
  "nbformat_minor": 0,
  "metadata": {
    "colab": {
      "name": "assignment2.ipynb",
      "provenance": [],
      "authorship_tag": "ABX9TyM5TA0MfJk+BJQ5KW2FHmr2",
      "include_colab_link": true
    },
    "kernelspec": {
      "name": "python3",
      "display_name": "Python 3"
    },
    "language_info": {
      "name": "python"
    }
  },
  "cells": [
    {
      "cell_type": "markdown",
      "metadata": {
        "id": "view-in-github",
        "colab_type": "text"
      },
      "source": [
        "<a href=\"https://colab.research.google.com/github/UdayBattula/Python_Practise/blob/main/assignment2.ipynb\" target=\"_parent\"><img src=\"https://colab.research.google.com/assets/colab-badge.svg\" alt=\"Open In Colab\"/></a>"
      ]
    },
    {
      "cell_type": "markdown",
      "source": [
        "##Create a function which accepts two inputs from the user and compute ncr"
      ],
      "metadata": {
        "id": "M0DFLTffZeN-"
      }
    },
    {
      "cell_type": "code",
      "execution_count": 3,
      "metadata": {
        "id": "3Q1E7iapZaeH",
        "colab": {
          "base_uri": "https://localhost:8080/"
        },
        "outputId": "786a4209-6a8d-4e33-c692-8cc66523916a"
      },
      "outputs": [
        {
          "output_type": "stream",
          "name": "stdout",
          "text": [
            "Enter the Value of n: 5\n",
            "Enter the Value of r: 5\n",
            "\n",
            "Combination (nCr) = 1.0\n"
          ]
        }
      ],
      "source": [
        "print(\"Enter the Value of n: \", end=\"\")\n",
        "n = int(input())\n",
        "print(\"Enter the Value of r: \", end=\"\")\n",
        "r = int(input())\n",
        "fact = i = 1\n",
        "while i<=n:\n",
        "  fact = i*fact\n",
        "  i += 1\n",
        "\n",
        "numerator = fact\n",
        "sub = n-r\n",
        "fact = i = 1\n",
        "\n",
        "while i<=sub:\n",
        "  fact = i*fact\n",
        "  i += 1\n",
        "\n",
        "denominator = fact\n",
        "fact = i = 1\n",
        "while i<=r:\n",
        "  fact = i*fact\n",
        "  i += 1\n",
        "\n",
        "denominator = fact*denominator\n",
        "comb = numerator/denominator\n",
        "print(\"\\nCombination (nCr) =\", comb)\n"
      ]
    },
    {
      "cell_type": "markdown",
      "source": [
        "## Recursive function to compute GCD of 2 numbers\n"
      ],
      "metadata": {
        "id": "ilNUaAAsbsYn"
      }
    },
    {
      "cell_type": "code",
      "source": [
        "def gcd(a,b):\n",
        "    if(b==0):\n",
        "        return a\n",
        "    else:\n",
        "        return gcd(b,a%b)\n",
        "a=int(input(\"Enter first number:\"))\n",
        "b=int(input(\"Enter second number:\"))\n",
        "GCD=gcd(a,b)\n",
        "print(\"GCD is: \")\n",
        "print(GCD)\n"
      ],
      "metadata": {
        "colab": {
          "base_uri": "https://localhost:8080/"
        },
        "id": "cxknb8gGrgOF",
        "outputId": "6809c9e6-a07a-4756-db52-17307541bce9"
      },
      "execution_count": 5,
      "outputs": [
        {
          "output_type": "stream",
          "name": "stdout",
          "text": [
            "Enter first number:5\n",
            "Enter second number:55\n",
            "GCD is: \n",
            "5\n"
          ]
        }
      ]
    },
    {
      "cell_type": "code",
      "source": [
        "def product(a,b):\n",
        "    if(a<b):\n",
        "        return product(b,a)\n",
        "    elif(b!=0):\n",
        "        return(a+product(a,b-1))\n",
        "    else:\n",
        "        return 0\n",
        "a=int(input(\"Enter first number: \"))\n",
        "b=int(input(\"Enter second number: \"))\n",
        "print(\"Product is: \",product(a,b))\n"
      ],
      "metadata": {
        "colab": {
          "base_uri": "https://localhost:8080/"
        },
        "id": "NehQqTzLrj8Y",
        "outputId": "581acca3-8f34-43d2-abd2-6e511a602434"
      },
      "execution_count": 6,
      "outputs": [
        {
          "output_type": "stream",
          "name": "stdout",
          "text": [
            "Enter first number: 25\n",
            "Enter second number: 25\n",
            "Product is:  625\n"
          ]
        }
      ]
    },
    {
      "cell_type": "code",
      "source": [
        "def recur_fibo(n):\n",
        "   if n <= 1:\n",
        "       return n\n",
        "   else:\n",
        "       return(recur_fibo(n-1) + recur_fibo(n-2))\n",
        "\n",
        "nterms =int(input(\"Enter any number= \"))\n",
        "\n",
        "if nterms <= 0:\n",
        "   print(\"Plese enter a positive integer\")\n",
        "else:\n",
        "   print(\"Fibonacci sequence:\")\n",
        "   for i in range(nterms):\n",
        "       print(recur_fibo(i))\n"
      ],
      "metadata": {
        "colab": {
          "base_uri": "https://localhost:8080/"
        },
        "id": "HNvxpq9ps5Sk",
        "outputId": "fa492cb4-0cb9-4c99-a3c0-9ec99b9bf1d8"
      },
      "execution_count": 10,
      "outputs": [
        {
          "output_type": "stream",
          "name": "stdout",
          "text": [
            "Enter any number= 10\n",
            "Fibonacci sequence:\n",
            "0\n",
            "1\n",
            "1\n",
            "2\n",
            "3\n",
            "5\n",
            "8\n",
            "13\n",
            "21\n",
            "34\n"
          ]
        }
      ]
    },
    {
      "cell_type": "markdown",
      "source": [
        "###Program to print a specified list after removing the 0th, 4th and 5th elements.\n",
        "####Sample List : ['Red', 'Green', 'White', 'Black', 'Pink', 'Yellow']\n",
        "####Expected Output : ['Green', 'White', 'Black']"
      ],
      "metadata": {
        "id": "HARbV72Yu5lx"
      }
    },
    {
      "cell_type": "code",
      "source": [
        "list= ['Red', 'Green', 'White', 'Black', 'Pink', 'Yellow']\n",
        "list.pop(0)\n",
        "list.pop(4)   #value gets updated\n",
        "list.pop(3)\n",
        "print(list)"
      ],
      "metadata": {
        "colab": {
          "base_uri": "https://localhost:8080/"
        },
        "id": "Sa_O9LcctJjZ",
        "outputId": "f6c64c39-22ab-4b0e-f955-d27a09b838da"
      },
      "execution_count": 16,
      "outputs": [
        {
          "output_type": "stream",
          "name": "stdout",
          "text": [
            "['Green', 'White', 'Black', 'Pink', 'Yellow']\n"
          ]
        }
      ]
    },
    {
      "cell_type": "markdown",
      "source": [
        "## Program to get the difference between the two lists.\n"
      ],
      "metadata": {
        "id": "LG0H2Ebpwobf"
      }
    },
    {
      "cell_type": "code",
      "source": [
        "li1 = [10, 15, 20, 25, 30, 35, 40]\n",
        "li2 = [25, 40, 35]\n",
        "li3 = Diff(li1, li2)\n",
        "print(li3)\n"
      ],
      "metadata": {
        "colab": {
          "base_uri": "https://localhost:8080/"
        },
        "id": "hssdtviKxiXA",
        "outputId": "24db4d73-7ada-4413-ed44-0ca1b258d423"
      },
      "execution_count": 24,
      "outputs": [
        {
          "output_type": "stream",
          "name": "stdout",
          "text": [
            "[10, 15, 20, 30]\n"
          ]
        }
      ]
    },
    {
      "cell_type": "markdown",
      "source": [
        "## Program to find the second smallest number and second largest number in a list.\n"
      ],
      "metadata": {
        "id": "jt5AEcyqzp-I"
      }
    },
    {
      "cell_type": "code",
      "source": [
        "def find_len(list1):\n",
        "\tlength = len(list1)\n",
        "\tlist1.sort()\n",
        "\tprint(\"Second Largest element is:\", list1[length-2])\n",
        "\tprint(\"Second Smallest element is:\", list1[1])\n",
        "\n",
        "list1=[12, 45, 2, 41, 31, 10, 8, 6, 4]\n",
        "Largest = find_len(list1)\n"
      ],
      "metadata": {
        "colab": {
          "base_uri": "https://localhost:8080/"
        },
        "id": "Emo-XGv1zsJ8",
        "outputId": "0ff1f674-be86-4021-9461-4e98d4a81dc6"
      },
      "execution_count": 30,
      "outputs": [
        {
          "output_type": "stream",
          "name": "stdout",
          "text": [
            "Second Largest element is: 41\n",
            "Second Smallest element is: 4\n"
          ]
        }
      ]
    },
    {
      "cell_type": "markdown",
      "source": [
        "####Given a list of numbers of list, write a Python program to create a list of tuples having first element as the number and second element as the square of the number."
      ],
      "metadata": {
        "id": "mKhKeOyUz5mL"
      }
    },
    {
      "cell_type": "code",
      "source": [
        "list1 = [1, 6, 9, 69]\n",
        "res = [(val, pow(val, 2)) for val in list1]\n",
        "print(res)\n"
      ],
      "metadata": {
        "colab": {
          "base_uri": "https://localhost:8080/"
        },
        "id": "iTAhm5d8zyET",
        "outputId": "bb884d5e-8ac1-45e8-e1b9-42a27b71a43a"
      },
      "execution_count": 32,
      "outputs": [
        {
          "output_type": "stream",
          "name": "stdout",
          "text": [
            "[(1, 1), (6, 36), (9, 81), (69, 4761)]\n"
          ]
        }
      ]
    },
    {
      "cell_type": "markdown",
      "source": [
        "###Given list of tuples, remove all the tuples with length K.\n",
        "###Input : test_list = [(4, 5), (4, ), (8, 6, 7), (1, ), (3, 4, 6, 7)], K = 2\n",
        "###Output : [(4, ), (8, 6, 7), (1, ), (3, 4, 6, 7)]\n",
        "###Explanation : (4, 5) of len = 2 is removed."
      ],
      "metadata": {
        "id": "CEZsLQxL0jbr"
      }
    },
    {
      "cell_type": "code",
      "source": [
        "\n",
        "test_list = [(4, 5), (4, ), (8, 6, 7), (1, ), (3, 4, 6, 7)]\n",
        "\n",
        "print(\"The original list : \" + str(test_list))\n",
        "\n",
        "K = 2\n",
        "res = [ele for ele in test_list if len(ele) != K]\n",
        "\n",
        "print(\"Filtered list : \" + str(res))\n"
      ],
      "metadata": {
        "colab": {
          "base_uri": "https://localhost:8080/"
        },
        "id": "N2vM0Xfq0XNw",
        "outputId": "fb1cc735-224f-457c-c1e1-cfe49ea00aee"
      },
      "execution_count": 35,
      "outputs": [
        {
          "output_type": "stream",
          "name": "stdout",
          "text": [
            "The original list : [(4, 5), (4,), (8, 6, 7), (1,), (3, 4, 6, 7)]\n",
            "Filtered list : [(4,), (8, 6, 7), (1,), (3, 4, 6, 7)]\n"
          ]
        }
      ]
    },
    {
      "cell_type": "markdown",
      "source": [
        "###Program to generate and print a dictionary that contains a number (between 1\n",
        "and n) in the form (x, x*x).\n",
        "Sample Input: (n=5) :\n",
        "Expected Output : {1: 1, 2: 4, 3: 9, 4: 16, 5: 25}"
      ],
      "metadata": {
        "id": "1eF7cpIL2hIY"
      }
    },
    {
      "cell_type": "code",
      "source": [
        "n=int(input(\"Enter a number \"))\n",
        "d = dict()\n",
        "\n",
        "for x in range(1,n+1):\n",
        "    d[x]=x*x\n",
        "\n",
        "print(d) \n"
      ],
      "metadata": {
        "colab": {
          "base_uri": "https://localhost:8080/"
        },
        "id": "1bEr19cg1Az0",
        "outputId": "2e5c5316-ee9f-4833-d147-d13ed73d0f80"
      },
      "execution_count": 37,
      "outputs": [
        {
          "output_type": "stream",
          "name": "stdout",
          "text": [
            "Enter a number 5\n",
            "{1: 1, 2: 4, 3: 9, 4: 16, 5: 25}\n"
          ]
        }
      ]
    },
    {
      "cell_type": "markdown",
      "source": [
        "#### Program to remove a key from a dictionary\n"
      ],
      "metadata": {
        "id": "NJagbfqJ3HPg"
      }
    },
    {
      "cell_type": "code",
      "source": [
        "diction = {'a':1,'b':2,'c':3,'d':4}\n",
        "print(diction)\n",
        "if 'a' in diction: \n",
        "    del diction['d']\n",
        "print(diction)"
      ],
      "metadata": {
        "colab": {
          "base_uri": "https://localhost:8080/"
        },
        "id": "B6BE8U8m2wEc",
        "outputId": "316bbe80-7c8e-433e-c36f-874b3e865fec"
      },
      "execution_count": 39,
      "outputs": [
        {
          "output_type": "stream",
          "name": "stdout",
          "text": [
            "{'a': 1, 'b': 2, 'c': 3, 'd': 4}\n",
            "{'a': 1, 'b': 2, 'c': 3}\n"
          ]
        }
      ]
    },
    {
      "cell_type": "markdown",
      "source": [
        "Program to perform operations on string using unicodes ,splitting of string,accessing\n",
        "elements of string using locations"
      ],
      "metadata": {
        "id": "Q8SJAUf734qG"
      }
    },
    {
      "cell_type": "markdown",
      "source": [
        "######Program for Counting occurrence of a certain element in a string, getting indexes that have matching elements\n"
      ],
      "metadata": {
        "id": "tD0m5wXv6Hrb"
      }
    },
    {
      "cell_type": "code",
      "source": [
        "\n",
        "test_str = \"Violence, Violence, Violence!!!\"\n",
        "\n",
        "count = 0\n",
        "\n",
        "for i in test_str:\n",
        "\tif i == 'e':\n",
        "\t\tcount = count + 1\n",
        "\n",
        "print (\"Count of e in Violence, Violence, Violence!!! is : \"\n",
        "\t\t\t\t\t\t\t+ str(count))\n"
      ],
      "metadata": {
        "colab": {
          "base_uri": "https://localhost:8080/"
        },
        "id": "KxbjHgpW3fSV",
        "outputId": "760fadf4-59f6-428a-bf56-88fff91958b8"
      },
      "execution_count": 41,
      "outputs": [
        {
          "output_type": "stream",
          "name": "stdout",
          "text": [
            "Count of e in Violence, Violence, Violence!!! is : 6\n"
          ]
        }
      ]
    },
    {
      "cell_type": "markdown",
      "source": [
        "####Program for replacing one substring by another"
      ],
      "metadata": {
        "id": "9ObCiiI98zim"
      }
    },
    {
      "cell_type": "code",
      "source": [
        "# Python3 program to demonstrate the\n",
        "# use of replace() method\n",
        "\n",
        "string = \"Violence, Violence, Violence!!!, I dont like, I avoidddd....\"\n",
        "\n",
        "# Prints the string by replacing all\n",
        "# geeks by Geeks\n",
        "print(string.replace(\"....\", \" ,but Violence likes me, I cant avoidddd\"))\n",
        "\n",
        "# Prints the string by replacing only\n",
        "# 3 occurrence of Geeks\n",
        "print(string.replace(\"....\", \"but Violence likes me, I cant avoidddd\", 1))\n"
      ],
      "metadata": {
        "colab": {
          "base_uri": "https://localhost:8080/"
        },
        "id": "qMTHD1gS8kTg",
        "outputId": "4b142709-1ea5-46c9-f21d-7ca3302ff01e"
      },
      "execution_count": 44,
      "outputs": [
        {
          "output_type": "stream",
          "name": "stdout",
          "text": [
            "Violence, Violence, Violence!!!, I dont like, I avoidddd ,but Violence likes me, I cant avoidddd\n",
            "Violence, Violence, Violence!!!, I dont like, I avoiddddbut Violence likes me, I cant avoidddd\n"
          ]
        }
      ]
    },
    {
      "cell_type": "markdown",
      "source": [
        "###Program to Acronym generator for any user input"
      ],
      "metadata": {
        "id": "L9RlwQ4z992T"
      }
    },
    {
      "cell_type": "code",
      "source": [
        "# function to create acronym\n",
        "def fxn(stng):\n",
        "\t\n",
        "\t# get all words\n",
        "\tlst = stng.split()\n",
        "\toupt = \"\"\n",
        "\t\n",
        "\t# iterate over words\n",
        "\tfor word in lst:\n",
        "\t\t\n",
        "\t\t# get first letter of each word\n",
        "\t\toupt += word[0]\n",
        "\t\t\n",
        "\toupt = oupt.upper()\n",
        "\treturn oupt\n",
        "\n",
        "\n",
        "inpt1 = \"Salaaam Rocky Bhai\"\n",
        "\n",
        "print(fxn(inpt1))\n",
        "\n",
        "inpt1 = \"Toofan Toofan\"\n",
        "\n",
        "print(fxn(inpt1))\n",
        "\n",
        "inpt1 = \"Dheeera Dheeera\"\n",
        "print(fxn(inpt1))\n"
      ],
      "metadata": {
        "colab": {
          "base_uri": "https://localhost:8080/"
        },
        "id": "OKlYl1zE9SsC",
        "outputId": "d98142e1-5975-4217-b6ca-0fa3cf80d2a0"
      },
      "execution_count": 47,
      "outputs": [
        {
          "output_type": "stream",
          "name": "stdout",
          "text": [
            "SRB\n",
            "TT\n",
            "DD\n"
          ]
        }
      ]
    },
    {
      "cell_type": "markdown",
      "source": [
        "###Python function that accepts a string and calculates the number of uppercase letters and lowercase letters."
      ],
      "metadata": {
        "id": "pTbWECye-1ji"
      }
    },
    {
      "cell_type": "code",
      "source": [
        "def upperlower(string):\n",
        "\n",
        "\tupper = 0\n",
        "\tlower = 0\n",
        "\n",
        "\tfor i in range(len(string)):\n",
        "\t\t\n",
        "\t\t# For lower letters\n",
        "\t\tif (ord(string[i]) >= 97 and\n",
        "\t\t\tord(string[i]) <= 122):\n",
        "\t\t\tlower += 1\n",
        "\n",
        "\t\t# For upper letters\n",
        "\t\telif (ord(string[i]) >= 65 and\n",
        "\t\t\tord(string[i]) <= 90):\n",
        "\t\t\tupper += 1\n",
        "\n",
        "\tprint('Lower case characters = %s' %lower,\n",
        "\t\t'Upper case characters = %s' %upper)\n",
        "\n",
        "# Driver Code\n",
        "string = input(str(\"Enter any Statement\"))\n",
        "upperlower(string)\n"
      ],
      "metadata": {
        "colab": {
          "base_uri": "https://localhost:8080/"
        },
        "id": "UHRjCEDh-gMY",
        "outputId": "808ff634-2b7e-498e-d308-867c67879591"
      },
      "execution_count": 50,
      "outputs": [
        {
          "output_type": "stream",
          "name": "stdout",
          "text": [
            "Enter any Statement'Violence, Violence, Violence!!!, I dont like, I avoidddd ,but Violence likes me, I cant avoidddd'\n",
            "Lower case characters = 66 Upper case characters = 7\n"
          ]
        }
      ]
    },
    {
      "cell_type": "markdown",
      "source": [
        "###Program to count the number of strings where the string length is 2 or more and the first and last character are same from a given list of strings "
      ],
      "metadata": {
        "id": "pigDysPS_oea"
      }
    },
    {
      "cell_type": "code",
      "source": [
        "def match_words(words):\n",
        "  ctr = 0\n",
        "\n",
        "  for word in words:\n",
        "    if len(word) > 1 and word[0] == word[-1]:\n",
        "      ctr += 1\n",
        "  return ctr\n",
        "\n",
        "print(match_words(['abc', 'xyz', 'aba', '1221']))\n"
      ],
      "metadata": {
        "colab": {
          "base_uri": "https://localhost:8080/"
        },
        "id": "YAo7JRdt_AUw",
        "outputId": "e3370d81-6757-4ec0-a67c-f0fa19c83bca"
      },
      "execution_count": 51,
      "outputs": [
        {
          "output_type": "stream",
          "name": "stdout",
          "text": [
            "2\n"
          ]
        }
      ]
    }
  ]
}