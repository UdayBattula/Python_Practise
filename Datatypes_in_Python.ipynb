{
  "cells": [
    {
      "cell_type": "markdown",
      "metadata": {
        "id": "view-in-github",
        "colab_type": "text"
      },
      "source": [
        "<a href=\"https://colab.research.google.com/github/UdayBattula/Python_Practise/blob/main/Datatypes_in_Python.ipynb\" target=\"_parent\"><img src=\"https://colab.research.google.com/assets/colab-badge.svg\" alt=\"Open In Colab\"/></a>"
      ]
    },
    {
      "cell_type": "markdown",
      "id": "2056aa8c",
      "metadata": {
        "id": "2056aa8c"
      },
      "source": [
        "## Converting int to string, Float, Boolean, Complex."
      ]
    },
    {
      "cell_type": "code",
      "execution_count": 1,
      "id": "c1bfcdf4",
      "metadata": {
        "colab": {
          "base_uri": "https://localhost:8080/"
        },
        "id": "c1bfcdf4",
        "outputId": "b805bad3-3627-4129-8dbd-ce5b5100d0a2"
      },
      "outputs": [
        {
          "output_type": "stream",
          "name": "stdout",
          "text": [
            "<class 'int'>\n",
            "10\n",
            "<class 'str'>\n",
            "10\n",
            "<class 'float'>\n",
            "10.0\n",
            "True\n",
            "<class 'bool'>\n",
            "(10+0j)\n",
            "<class 'complex'>\n"
          ]
        }
      ],
      "source": [
        "a=10\n",
        "print(type(a))\n",
        "print(a)\n",
        "#before conversion\n",
        "b=str(a)\n",
        "print(type(b))\n",
        "print(b)\n",
        "#after conversion\n",
        "c=float(a)\n",
        "print(type(c))\n",
        "print(c)\n",
        "d=bool(a)\n",
        "print(d)\n",
        "print(type(d))\n",
        "e=complex(a)\n",
        "print(e)\n",
        "print(type(e))"
      ]
    },
    {
      "cell_type": "markdown",
      "id": "d8e2a27c",
      "metadata": {
        "id": "d8e2a27c"
      },
      "source": [
        "## Converting string to int, Float, Boolean, Complex."
      ]
    },
    {
      "cell_type": "code",
      "execution_count": 2,
      "id": "35b91665",
      "metadata": {
        "colab": {
          "base_uri": "https://localhost:8080/"
        },
        "id": "35b91665",
        "outputId": "7f406a89-682e-4d0f-c43e-b8085d22a085"
      },
      "outputs": [
        {
          "output_type": "stream",
          "name": "stdout",
          "text": [
            "<class 'str'>\n",
            "10\n",
            "<class 'int'>\n",
            "10\n",
            "<class 'float'>\n",
            "10.0\n",
            "<class 'bool'>\n",
            "True\n",
            "<class 'complex'>\n",
            "(10+0j)\n"
          ]
        }
      ],
      "source": [
        "a='10'\n",
        "print(type(a))\n",
        "print(a)\n",
        "b=int(a)\n",
        "print(type(b))\n",
        "print(b)\n",
        "\n",
        "#Cannot convert alphabet into integers, only digits\n",
        "#instead of alphabets give digits 0-9 \n",
        "e=float(a)\n",
        "print(type(e))\n",
        "print(e)\n",
        "f=bool(a)\n",
        "print(type(f))\n",
        "print(f)\n",
        "g=complex(a)\n",
        "print(type(g))\n",
        "print(g)"
      ]
    },
    {
      "cell_type": "markdown",
      "id": "8a7f1890",
      "metadata": {
        "id": "8a7f1890"
      },
      "source": [
        "### Converting float to int, string, Boolean, Complex."
      ]
    },
    {
      "cell_type": "code",
      "execution_count": null,
      "id": "dc11e333",
      "metadata": {
        "id": "dc11e333",
        "outputId": "dc57eb3c-f2c0-4e41-ec3e-54037b5993dc"
      },
      "outputs": [
        {
          "name": "stdout",
          "output_type": "stream",
          "text": [
            "<class 'float'>\n",
            "10.5\n",
            "<class 'int'>\n",
            "10\n",
            "<class 'str'>\n",
            "10.5\n",
            "<class 'bool'>\n",
            "True\n",
            "<class 'complex'>\n",
            "(10.5+0j)\n"
          ]
        }
      ],
      "source": [
        "a=10.5\n",
        "print(type(a))\n",
        "print(a)\n",
        "b=int(a)\n",
        "print(type(b))\n",
        "print(b)\n",
        "c=str(a)\n",
        "print(type(c))\n",
        "print(c)\n",
        "d=bool(a)\n",
        "print(type(d))\n",
        "print(d)\n",
        "e=complex(a)\n",
        "print(type(e))\n",
        "print(e)"
      ]
    },
    {
      "cell_type": "markdown",
      "id": "42528b91",
      "metadata": {
        "id": "42528b91"
      },
      "source": [
        "# Converting Complex to int, string, float, boolean."
      ]
    },
    {
      "cell_type": "code",
      "execution_count": null,
      "id": "61984ece",
      "metadata": {
        "id": "61984ece",
        "outputId": "9e978cbf-b5dd-4dff-d9ae-3b67f24c6167"
      },
      "outputs": [
        {
          "name": "stdout",
          "output_type": "stream",
          "text": [
            "<class 'complex'>\n",
            "(50+3j)\n"
          ]
        },
        {
          "ename": "TypeError",
          "evalue": "can't convert complex to int",
          "output_type": "error",
          "traceback": [
            "\u001b[1;31m---------------------------------------------------------------------------\u001b[0m",
            "\u001b[1;31mTypeError\u001b[0m                                 Traceback (most recent call last)",
            "\u001b[1;32m~\\AppData\\Local\\Temp/ipykernel_8436/2022672650.py\u001b[0m in \u001b[0;36m<module>\u001b[1;34m\u001b[0m\n\u001b[0;32m      2\u001b[0m \u001b[0mprint\u001b[0m\u001b[1;33m(\u001b[0m\u001b[0mtype\u001b[0m\u001b[1;33m(\u001b[0m\u001b[0ma\u001b[0m\u001b[1;33m)\u001b[0m\u001b[1;33m)\u001b[0m\u001b[1;33m\u001b[0m\u001b[1;33m\u001b[0m\u001b[0m\n\u001b[0;32m      3\u001b[0m \u001b[0mprint\u001b[0m\u001b[1;33m(\u001b[0m\u001b[0ma\u001b[0m\u001b[1;33m)\u001b[0m\u001b[1;33m\u001b[0m\u001b[1;33m\u001b[0m\u001b[0m\n\u001b[1;32m----> 4\u001b[1;33m \u001b[0mb\u001b[0m\u001b[1;33m=\u001b[0m\u001b[0mint\u001b[0m\u001b[1;33m(\u001b[0m\u001b[0ma\u001b[0m\u001b[1;33m)\u001b[0m\u001b[1;33m\u001b[0m\u001b[1;33m\u001b[0m\u001b[0m\n\u001b[0m\u001b[0;32m      5\u001b[0m \u001b[0mprint\u001b[0m\u001b[1;33m(\u001b[0m\u001b[0mtype\u001b[0m\u001b[1;33m(\u001b[0m\u001b[0mb\u001b[0m\u001b[1;33m)\u001b[0m\u001b[1;33m)\u001b[0m\u001b[1;33m\u001b[0m\u001b[1;33m\u001b[0m\u001b[0m\n\u001b[0;32m      6\u001b[0m \u001b[0mprint\u001b[0m\u001b[1;33m(\u001b[0m\u001b[0mb\u001b[0m\u001b[1;33m)\u001b[0m\u001b[1;33m\u001b[0m\u001b[1;33m\u001b[0m\u001b[0m\n",
            "\u001b[1;31mTypeError\u001b[0m: can't convert complex to int"
          ]
        }
      ],
      "source": [
        "a=50+3j\n",
        "print(type(a))\n",
        "print(a)\n",
        "b=int(a)\n",
        "print(type(b))\n",
        "print(b)\n",
        "#cant convert a complex into int\n"
      ]
    },
    {
      "cell_type": "code",
      "execution_count": null,
      "id": "d59a8351",
      "metadata": {
        "id": "d59a8351"
      },
      "outputs": [],
      "source": [
        ""
      ]
    }
  ],
  "metadata": {
    "kernelspec": {
      "display_name": "Python 3 (ipykernel)",
      "language": "python",
      "name": "python3"
    },
    "language_info": {
      "codemirror_mode": {
        "name": "ipython",
        "version": 3
      },
      "file_extension": ".py",
      "mimetype": "text/x-python",
      "name": "python",
      "nbconvert_exporter": "python",
      "pygments_lexer": "ipython3",
      "version": "3.9.7"
    },
    "colab": {
      "name": "Datatypes_in_Python.ipynb",
      "provenance": [],
      "include_colab_link": true
    }
  },
  "nbformat": 4,
  "nbformat_minor": 5
}