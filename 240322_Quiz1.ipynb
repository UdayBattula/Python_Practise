{
  "nbformat": 4,
  "nbformat_minor": 0,
  "metadata": {
    "colab": {
      "name": "240322/Quiz1.ipynb",
      "provenance": [],
      "authorship_tag": "ABX9TyPI5Lx2jaBTREOZMgKv98Sx",
      "include_colab_link": true
    },
    "kernelspec": {
      "name": "python3",
      "display_name": "Python 3"
    },
    "language_info": {
      "name": "python"
    }
  },
  "cells": [
    {
      "cell_type": "markdown",
      "metadata": {
        "id": "view-in-github",
        "colab_type": "text"
      },
      "source": [
        "<a href=\"https://colab.research.google.com/github/UdayBattula/Python_Practise/blob/main/240322_Quiz1.ipynb\" target=\"_parent\"><img src=\"https://colab.research.google.com/assets/colab-badge.svg\" alt=\"Open In Colab\"/></a>"
      ]
    },
    {
      "cell_type": "markdown",
      "source": [
        "# Quiz1"
      ],
      "metadata": {
        "id": "zWWVdVW2ioCs"
      }
    },
    {
      "cell_type": "code",
      "source": [
        "#Write a program of swapping of two numbers \n",
        "a=2\n",
        "b=3\n",
        "c=a\n",
        "a=b\n",
        "b=c\n",
        "print(\"Result =\",a,b)"
      ],
      "metadata": {
        "colab": {
          "base_uri": "https://localhost:8080/"
        },
        "id": "n-xv6eQdiqe0",
        "outputId": "e0112193-1950-4b05-e2c5-90fad58fff77"
      },
      "execution_count": 1,
      "outputs": [
        {
          "output_type": "stream",
          "name": "stdout",
          "text": [
            "Result = 3 2\n"
          ]
        }
      ]
    },
    {
      "cell_type": "code",
      "source": [
        "#Find out the square root of the number\n",
        "a=4\n",
        "b=a**1/2\n",
        "print(b)"
      ],
      "metadata": {
        "colab": {
          "base_uri": "https://localhost:8080/"
        },
        "id": "9Asyxsr_i1eM",
        "outputId": "fb084c2f-59cb-42df-dad6-a43478daf80e"
      },
      "execution_count": 2,
      "outputs": [
        {
          "output_type": "stream",
          "name": "stdout",
          "text": [
            "2.0\n"
          ]
        }
      ]
    },
    {
      "cell_type": "code",
      "source": [
        "#Find out the Largest of three numbers from the give input\n",
        "a=5\n",
        "b=3\n",
        "c=2\n",
        "if(a>b and a>c):\n",
        "   print(a)\n",
        "elif(b>c and b>a):\n",
        "   print(c)\n",
        "else:\n",
        "   print(c)"
      ],
      "metadata": {
        "colab": {
          "base_uri": "https://localhost:8080/"
        },
        "id": "3ICuTET6jFXE",
        "outputId": "5b2189f1-7814-4202-82d6-c4c00c124ae8"
      },
      "execution_count": 3,
      "outputs": [
        {
          "output_type": "stream",
          "name": "stdout",
          "text": [
            "5\n"
          ]
        }
      ]
    },
    {
      "cell_type": "code",
      "source": [
        "#Add Black color to the given list in the 4th place.\n",
        "# Rainbow = ['Red', 'Orange', 'Yellow', 'Green'] \n",
        "Rainbow=['Red','orange','Yellow','Green']\n",
        "Rainbow.insert(3,'Black')\n",
        "print(Rainbow)"
      ],
      "metadata": {
        "colab": {
          "base_uri": "https://localhost:8080/"
        },
        "id": "ihJL7bDkjPvk",
        "outputId": "45744ae7-a72c-4438-ab87-58c3ea93195c"
      },
      "execution_count": 9,
      "outputs": [
        {
          "output_type": "stream",
          "name": "stdout",
          "text": [
            "['Red', 'orange', 'Yellow', 'Black', 'Green']\n"
          ]
        }
      ]
    },
    {
      "cell_type": "code",
      "source": [
        ""
      ],
      "metadata": {
        "id": "vn2t1yKBjhes"
      },
      "execution_count": null,
      "outputs": []
    }
  ]
}